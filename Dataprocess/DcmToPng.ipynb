{
 "metadata": {
  "language_info": {
   "codemirror_mode": {
    "name": "ipython",
    "version": 3
   },
   "file_extension": ".py",
   "mimetype": "text/x-python",
   "name": "python",
   "nbconvert_exporter": "python",
   "pygments_lexer": "ipython3",
   "version": "3.8.5"
  },
  "orig_nbformat": 2,
  "kernelspec": {
   "name": "python385jvsc74a57bd0ea23a4e211529f310423b8b8f6686fdd6f68d6b24bda7893cebd52920fa1260b",
   "display_name": "Python 3.8.5 64-bit ('base': conda)"
  }
 },
 "nbformat": 4,
 "nbformat_minor": 2,
 "cells": [
  {
   "cell_type": "code",
   "execution_count": 3,
   "metadata": {},
   "outputs": [],
   "source": [
    "import pydicom\n",
    "import matplotlib.pyplot as plt\n",
    "import imageio\n",
    "import os,sys\n",
    "\n"
   ]
  },
  {
   "cell_type": "code",
   "execution_count": 13,
   "metadata": {},
   "outputs": [
    {
     "output_type": "execute_result",
     "data": {
      "text/plain": [
       "26686"
      ]
     },
     "metadata": {},
     "execution_count": 13
    }
   ],
   "source": [
    "in_path = '/Users/linkeke/Downloads/rsna-pneumonia-detection-challenge/stage_2_train_images'\n",
    "os.listdir(in_path).remove('Transform')\n",
    "len(os.listdir(in_path))"
   ]
  },
  {
   "cell_type": "code",
   "execution_count": 20,
   "metadata": {},
   "outputs": [
    {
     "output_type": "execute_result",
     "data": {
      "text/plain": [
       "'mkds.png'"
      ]
     },
     "metadata": {},
     "execution_count": 20
    }
   ],
   "source": [
    "'mkds.dcm'[:-4]+'.png'"
   ]
  },
  {
   "cell_type": "code",
   "execution_count": null,
   "metadata": {},
   "outputs": [],
   "source": [
    "in_img = os.listdir(in_path)\n",
    "for i in in_img:\n",
    "    path = in_path + '/' + i\n",
    "    out_path = i[:-4] + '.png'\n",
    "    ds = pydicom.read_file(path)  #读取.dcm文件\n",
    "    img = ds.pixel_array  # 提取图像信息\n",
    "    # print(img.shape)\n",
    "    # plt.imshow(img)\n",
    "    # plt.show()\n",
    "    imageio.imsave(out_path,img) "
   ]
  }
 ]
}