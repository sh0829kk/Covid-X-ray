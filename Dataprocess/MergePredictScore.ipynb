{
 "metadata": {
  "language_info": {
   "codemirror_mode": {
    "name": "ipython",
    "version": 3
   },
   "file_extension": ".py",
   "mimetype": "text/x-python",
   "name": "python",
   "nbconvert_exporter": "python",
   "pygments_lexer": "ipython3",
   "version": "3.8.5"
  },
  "orig_nbformat": 2,
  "kernelspec": {
   "name": "python385jvsc74a57bd0ea23a4e211529f310423b8b8f6686fdd6f68d6b24bda7893cebd52920fa1260b",
   "display_name": "Python 3.8.5 64-bit ('base': conda)"
  }
 },
 "nbformat": 4,
 "nbformat_minor": 2,
 "cells": [
  {
   "cell_type": "code",
   "execution_count": 1,
   "metadata": {},
   "outputs": [],
   "source": [
    "import pandas as pd "
   ]
  },
  {
   "cell_type": "code",
   "execution_count": 3,
   "metadata": {},
   "outputs": [
    {
     "output_type": "execute_result",
     "data": {
      "text/plain": [
       "     Pair Outcome category        Dx External ID  \\\n",
       "0     1.0            Worse  COVID-19      case 8   \n",
       "1     NaN              NaN  COVID-19      case 8   \n",
       "2     2.0            Worse  COVID-19     case 12   \n",
       "3     NaN              NaN  COVID-19     case 12   \n",
       "4     3.0            Worse  COVID-19     case 44   \n",
       "..    ...              ...       ...         ...   \n",
       "115   NaN              NaN  COVID-19         167   \n",
       "116  59.0            Worse  COVID-19         168   \n",
       "117   NaN              NaN  COVID-19         168   \n",
       "118  60.0            Worse  COVID-19         169   \n",
       "119   NaN              NaN  COVID-19         169   \n",
       "\n",
       "                                      Filename         Country  \\\n",
       "0    8FDE8DBA-CFBD-4B4C-B1A4-6F36A93B7E87.jpeg           Italy   \n",
       "1    9C34AF49-E589-44D5-92D3-168B3B04E4A6.jpeg           Italy   \n",
       "2    F2DE909F-E19C-4900-92F5-8F435B031AC6.jpeg           Italy   \n",
       "3    31BA3780-2323-493F-8AED-62081B9C383B.jpeg           Italy   \n",
       "4    7D2CF6CE-F529-4470-8356-D33FFAF98600.jpeg           Italy   \n",
       "..                                         ...             ...   \n",
       "115  aa38ce1ae733252bd6750570982613_jumbo.jpeg           Italy   \n",
       "116  5626fb96f86acbf11d87342185c3c5_jumbo.jpeg  United Kingdom   \n",
       "117  a6b02e3069a37b8abea2d1b79815b2_jumbo.jpeg  United Kingdom   \n",
       "118  fd96bc48f3d957dea1f85e2f5fb46f_jumbo.jpeg  United Kingdom   \n",
       "119  79b23ca06dbe2ea2b5b49b9f53cbf1_jumbo.jpeg  United Kingdom   \n",
       "\n",
       "                                                  Site  \\\n",
       "0                      UOC Radiologia ASST Bergamo Est   \n",
       "1                      UOC Radiologia ASST Bergamo Est   \n",
       "2    Casa Sollievo della Sofferenza – San Giovanni ...   \n",
       "3    Casa Sollievo della Sofferenza – San Giovanni ...   \n",
       "4         ASST Pavia, presidio Ospedaliero di Vigevano   \n",
       "..                                                 ...   \n",
       "115                                           Riccione   \n",
       "116                                         Nottingham   \n",
       "117                                         Nottingham   \n",
       "118                                         Nottingham   \n",
       "119                                         Nottingham   \n",
       "\n",
       "                              Original Repository Link Age     Sex  \\\n",
       "0     https://www.sirm.org/2020/03/05/covid-19-caso-8/  67    Male   \n",
       "1     https://www.sirm.org/2020/03/05/covid-19-caso-8/  67    Male   \n",
       "2    https://www.sirm.org/2020/03/07/covid-19-caso-12/  58    Male   \n",
       "3    https://www.sirm.org/2020/03/07/covid-19-caso-12/  58    Male   \n",
       "4    https://www.sirm.org/2020/03/13/covid-19-caso-44/  65    Male   \n",
       "..                                                 ...  ..     ...   \n",
       "115  https://radiopaedia.org/cases/covid-19-pneumon...  75    Male   \n",
       "116  https://radiopaedia.org/cases/covid-19-pneumon...  35  Female   \n",
       "117  https://radiopaedia.org/cases/covid-19-pneumon...  35  Female   \n",
       "118  https://radiopaedia.org/cases/covid-19-pneumon...  60    Male   \n",
       "119  https://radiopaedia.org/cases/covid-19-pneumon...  60    Male   \n",
       "\n",
       "                                       Medical finding  \n",
       "0    symptomatic for fever associated with cough fo...  \n",
       "1    Multiple bilateral parenchymal thickenings in ...  \n",
       "2    reaches the ER for lipotymic - syncopal crisis...  \n",
       "3                                                  NaN  \n",
       "4    On 2/22 he entered the emergency room of Vigev...  \n",
       "..                                                 ...  \n",
       "115  Fever for ten days with dry cough, shortness o...  \n",
       "116  Four-day history of dry cough, myalgia, pyrexi...  \n",
       "117  Four-day history of dry cough, myalgia, pyrexi...  \n",
       "118  Patient presented with pyrexia and dyspnea. Pa...  \n",
       "119  Patient presented with pyrexia and dyspnea. Pa...  \n",
       "\n",
       "[120 rows x 11 columns]"
      ],
      "text/html": "<div>\n<style scoped>\n    .dataframe tbody tr th:only-of-type {\n        vertical-align: middle;\n    }\n\n    .dataframe tbody tr th {\n        vertical-align: top;\n    }\n\n    .dataframe thead th {\n        text-align: right;\n    }\n</style>\n<table border=\"1\" class=\"dataframe\">\n  <thead>\n    <tr style=\"text-align: right;\">\n      <th></th>\n      <th>Pair</th>\n      <th>Outcome category</th>\n      <th>Dx</th>\n      <th>External ID</th>\n      <th>Filename</th>\n      <th>Country</th>\n      <th>Site</th>\n      <th>Original Repository Link</th>\n      <th>Age</th>\n      <th>Sex</th>\n      <th>Medical finding</th>\n    </tr>\n  </thead>\n  <tbody>\n    <tr>\n      <th>0</th>\n      <td>1.0</td>\n      <td>Worse</td>\n      <td>COVID-19</td>\n      <td>case 8</td>\n      <td>8FDE8DBA-CFBD-4B4C-B1A4-6F36A93B7E87.jpeg</td>\n      <td>Italy</td>\n      <td>UOC Radiologia ASST Bergamo Est</td>\n      <td>https://www.sirm.org/2020/03/05/covid-19-caso-8/</td>\n      <td>67</td>\n      <td>Male</td>\n      <td>symptomatic for fever associated with cough fo...</td>\n    </tr>\n    <tr>\n      <th>1</th>\n      <td>NaN</td>\n      <td>NaN</td>\n      <td>COVID-19</td>\n      <td>case 8</td>\n      <td>9C34AF49-E589-44D5-92D3-168B3B04E4A6.jpeg</td>\n      <td>Italy</td>\n      <td>UOC Radiologia ASST Bergamo Est</td>\n      <td>https://www.sirm.org/2020/03/05/covid-19-caso-8/</td>\n      <td>67</td>\n      <td>Male</td>\n      <td>Multiple bilateral parenchymal thickenings in ...</td>\n    </tr>\n    <tr>\n      <th>2</th>\n      <td>2.0</td>\n      <td>Worse</td>\n      <td>COVID-19</td>\n      <td>case 12</td>\n      <td>F2DE909F-E19C-4900-92F5-8F435B031AC6.jpeg</td>\n      <td>Italy</td>\n      <td>Casa Sollievo della Sofferenza – San Giovanni ...</td>\n      <td>https://www.sirm.org/2020/03/07/covid-19-caso-12/</td>\n      <td>58</td>\n      <td>Male</td>\n      <td>reaches the ER for lipotymic - syncopal crisis...</td>\n    </tr>\n    <tr>\n      <th>3</th>\n      <td>NaN</td>\n      <td>NaN</td>\n      <td>COVID-19</td>\n      <td>case 12</td>\n      <td>31BA3780-2323-493F-8AED-62081B9C383B.jpeg</td>\n      <td>Italy</td>\n      <td>Casa Sollievo della Sofferenza – San Giovanni ...</td>\n      <td>https://www.sirm.org/2020/03/07/covid-19-caso-12/</td>\n      <td>58</td>\n      <td>Male</td>\n      <td>NaN</td>\n    </tr>\n    <tr>\n      <th>4</th>\n      <td>3.0</td>\n      <td>Worse</td>\n      <td>COVID-19</td>\n      <td>case 44</td>\n      <td>7D2CF6CE-F529-4470-8356-D33FFAF98600.jpeg</td>\n      <td>Italy</td>\n      <td>ASST Pavia, presidio Ospedaliero di Vigevano</td>\n      <td>https://www.sirm.org/2020/03/13/covid-19-caso-44/</td>\n      <td>65</td>\n      <td>Male</td>\n      <td>On 2/22 he entered the emergency room of Vigev...</td>\n    </tr>\n    <tr>\n      <th>...</th>\n      <td>...</td>\n      <td>...</td>\n      <td>...</td>\n      <td>...</td>\n      <td>...</td>\n      <td>...</td>\n      <td>...</td>\n      <td>...</td>\n      <td>...</td>\n      <td>...</td>\n      <td>...</td>\n    </tr>\n    <tr>\n      <th>115</th>\n      <td>NaN</td>\n      <td>NaN</td>\n      <td>COVID-19</td>\n      <td>167</td>\n      <td>aa38ce1ae733252bd6750570982613_jumbo.jpeg</td>\n      <td>Italy</td>\n      <td>Riccione</td>\n      <td>https://radiopaedia.org/cases/covid-19-pneumon...</td>\n      <td>75</td>\n      <td>Male</td>\n      <td>Fever for ten days with dry cough, shortness o...</td>\n    </tr>\n    <tr>\n      <th>116</th>\n      <td>59.0</td>\n      <td>Worse</td>\n      <td>COVID-19</td>\n      <td>168</td>\n      <td>5626fb96f86acbf11d87342185c3c5_jumbo.jpeg</td>\n      <td>United Kingdom</td>\n      <td>Nottingham</td>\n      <td>https://radiopaedia.org/cases/covid-19-pneumon...</td>\n      <td>35</td>\n      <td>Female</td>\n      <td>Four-day history of dry cough, myalgia, pyrexi...</td>\n    </tr>\n    <tr>\n      <th>117</th>\n      <td>NaN</td>\n      <td>NaN</td>\n      <td>COVID-19</td>\n      <td>168</td>\n      <td>a6b02e3069a37b8abea2d1b79815b2_jumbo.jpeg</td>\n      <td>United Kingdom</td>\n      <td>Nottingham</td>\n      <td>https://radiopaedia.org/cases/covid-19-pneumon...</td>\n      <td>35</td>\n      <td>Female</td>\n      <td>Four-day history of dry cough, myalgia, pyrexi...</td>\n    </tr>\n    <tr>\n      <th>118</th>\n      <td>60.0</td>\n      <td>Worse</td>\n      <td>COVID-19</td>\n      <td>169</td>\n      <td>fd96bc48f3d957dea1f85e2f5fb46f_jumbo.jpeg</td>\n      <td>United Kingdom</td>\n      <td>Nottingham</td>\n      <td>https://radiopaedia.org/cases/covid-19-pneumon...</td>\n      <td>60</td>\n      <td>Male</td>\n      <td>Patient presented with pyrexia and dyspnea. Pa...</td>\n    </tr>\n    <tr>\n      <th>119</th>\n      <td>NaN</td>\n      <td>NaN</td>\n      <td>COVID-19</td>\n      <td>169</td>\n      <td>79b23ca06dbe2ea2b5b49b9f53cbf1_jumbo.jpeg</td>\n      <td>United Kingdom</td>\n      <td>Nottingham</td>\n      <td>https://radiopaedia.org/cases/covid-19-pneumon...</td>\n      <td>60</td>\n      <td>Male</td>\n      <td>Patient presented with pyrexia and dyspnea. Pa...</td>\n    </tr>\n  </tbody>\n</table>\n<p>120 rows × 11 columns</p>\n</div>"
     },
     "metadata": {},
     "execution_count": 3
    }
   ],
   "source": [
    "pd.read_excel(\"/Users/linkeke/desktop/filedataset.xlsx\")"
   ]
  },
  {
   "cell_type": "code",
   "execution_count": 4,
   "metadata": {},
   "outputs": [
    {
     "output_type": "execute_result",
     "data": {
      "text/plain": [
       "                                      filename  geo_extent   opacity\n",
       "0    8FDE8DBA-CFBD-4B4C-B1A4-6F36A93B7E87.jpeg    0.948288  1.000328\n",
       "1    9C34AF49-E589-44D5-92D3-168B3B04E4A6.jpeg    1.538561  1.372207\n",
       "2    F2DE909F-E19C-4900-92F5-8F435B031AC6.jpeg    4.653521  3.334674\n",
       "3    31BA3780-2323-493F-8AED-62081B9C383B.jpeg    6.292536  4.367275\n",
       "4    7D2CF6CE-F529-4470-8356-D33FFAF98600.jpeg    2.286859  1.843645\n",
       "..                                         ...         ...       ...\n",
       "115  aa38ce1ae733252bd6750570982613_jumbo.jpeg    0.963966  1.010205\n",
       "116  5626fb96f86acbf11d87342185c3c5_jumbo.jpeg    4.911565  3.497245\n",
       "117  a6b02e3069a37b8abea2d1b79815b2_jumbo.jpeg    4.105204  2.989227\n",
       "118  fd96bc48f3d957dea1f85e2f5fb46f_jumbo.jpeg    0.989128  1.026057\n",
       "119  79b23ca06dbe2ea2b5b49b9f53cbf1_jumbo.jpeg    3.441354  2.570993\n",
       "\n",
       "[120 rows x 3 columns]"
      ],
      "text/html": "<div>\n<style scoped>\n    .dataframe tbody tr th:only-of-type {\n        vertical-align: middle;\n    }\n\n    .dataframe tbody tr th {\n        vertical-align: top;\n    }\n\n    .dataframe thead th {\n        text-align: right;\n    }\n</style>\n<table border=\"1\" class=\"dataframe\">\n  <thead>\n    <tr style=\"text-align: right;\">\n      <th></th>\n      <th>filename</th>\n      <th>geo_extent</th>\n      <th>opacity</th>\n    </tr>\n  </thead>\n  <tbody>\n    <tr>\n      <th>0</th>\n      <td>8FDE8DBA-CFBD-4B4C-B1A4-6F36A93B7E87.jpeg</td>\n      <td>0.948288</td>\n      <td>1.000328</td>\n    </tr>\n    <tr>\n      <th>1</th>\n      <td>9C34AF49-E589-44D5-92D3-168B3B04E4A6.jpeg</td>\n      <td>1.538561</td>\n      <td>1.372207</td>\n    </tr>\n    <tr>\n      <th>2</th>\n      <td>F2DE909F-E19C-4900-92F5-8F435B031AC6.jpeg</td>\n      <td>4.653521</td>\n      <td>3.334674</td>\n    </tr>\n    <tr>\n      <th>3</th>\n      <td>31BA3780-2323-493F-8AED-62081B9C383B.jpeg</td>\n      <td>6.292536</td>\n      <td>4.367275</td>\n    </tr>\n    <tr>\n      <th>4</th>\n      <td>7D2CF6CE-F529-4470-8356-D33FFAF98600.jpeg</td>\n      <td>2.286859</td>\n      <td>1.843645</td>\n    </tr>\n    <tr>\n      <th>...</th>\n      <td>...</td>\n      <td>...</td>\n      <td>...</td>\n    </tr>\n    <tr>\n      <th>115</th>\n      <td>aa38ce1ae733252bd6750570982613_jumbo.jpeg</td>\n      <td>0.963966</td>\n      <td>1.010205</td>\n    </tr>\n    <tr>\n      <th>116</th>\n      <td>5626fb96f86acbf11d87342185c3c5_jumbo.jpeg</td>\n      <td>4.911565</td>\n      <td>3.497245</td>\n    </tr>\n    <tr>\n      <th>117</th>\n      <td>a6b02e3069a37b8abea2d1b79815b2_jumbo.jpeg</td>\n      <td>4.105204</td>\n      <td>2.989227</td>\n    </tr>\n    <tr>\n      <th>118</th>\n      <td>fd96bc48f3d957dea1f85e2f5fb46f_jumbo.jpeg</td>\n      <td>0.989128</td>\n      <td>1.026057</td>\n    </tr>\n    <tr>\n      <th>119</th>\n      <td>79b23ca06dbe2ea2b5b49b9f53cbf1_jumbo.jpeg</td>\n      <td>3.441354</td>\n      <td>2.570993</td>\n    </tr>\n  </tbody>\n</table>\n<p>120 rows × 3 columns</p>\n</div>"
     },
     "metadata": {},
     "execution_count": 4
    }
   ],
   "source": [
    "pd.read_csv('/Users/linkeke/desktop/PredictScore.csv')"
   ]
  },
  {
   "cell_type": "code",
   "execution_count": 15,
   "metadata": {},
   "outputs": [],
   "source": [
    "left = pd.read_excel(\"/Users/linkeke/desktop/filedataset.xlsx\")\n",
    "right = pd.read_csv('/Users/linkeke/desktop/PredictScore.csv')"
   ]
  },
  {
   "cell_type": "code",
   "execution_count": 10,
   "metadata": {},
   "outputs": [],
   "source": [
    "left_on = left[[\"Pair\",\"Outcome category\",\"Filename\"]]"
   ]
  },
  {
   "cell_type": "code",
   "execution_count": 16,
   "metadata": {},
   "outputs": [
    {
     "output_type": "stream",
     "name": "stderr",
     "text": [
      "<ipython-input-16-2155557d5195>:1: SettingWithCopyWarning: \nA value is trying to be set on a copy of a slice from a DataFrame.\nTry using .loc[row_indexer,col_indexer] = value instead\n\nSee the caveats in the documentation: https://pandas.pydata.org/pandas-docs/stable/user_guide/indexing.html#returning-a-view-versus-a-copy\n  left_on[\"geo_extent\"] = right[\"geo_extent\"]\n"
     ]
    }
   ],
   "source": [
    "left_on[\"geo_extent\"] = right[\"geo_extent\"]"
   ]
  },
  {
   "cell_type": "code",
   "execution_count": 17,
   "metadata": {},
   "outputs": [
    {
     "output_type": "stream",
     "name": "stderr",
     "text": [
      "<ipython-input-17-64c042dede93>:1: SettingWithCopyWarning: \nA value is trying to be set on a copy of a slice from a DataFrame.\nTry using .loc[row_indexer,col_indexer] = value instead\n\nSee the caveats in the documentation: https://pandas.pydata.org/pandas-docs/stable/user_guide/indexing.html#returning-a-view-versus-a-copy\n  left_on[\"opacity\"] = right[\"opacity\"]\n"
     ]
    }
   ],
   "source": [
    "left_on[\"opacity\"] = right[\"opacity\"]"
   ]
  },
  {
   "cell_type": "code",
   "execution_count": 18,
   "metadata": {},
   "outputs": [
    {
     "output_type": "execute_result",
     "data": {
      "text/plain": [
       "     Pair Outcome category                                   Filename  \\\n",
       "0     1.0            Worse  8FDE8DBA-CFBD-4B4C-B1A4-6F36A93B7E87.jpeg   \n",
       "1     NaN              NaN  9C34AF49-E589-44D5-92D3-168B3B04E4A6.jpeg   \n",
       "2     2.0            Worse  F2DE909F-E19C-4900-92F5-8F435B031AC6.jpeg   \n",
       "3     NaN              NaN  31BA3780-2323-493F-8AED-62081B9C383B.jpeg   \n",
       "4     3.0            Worse  7D2CF6CE-F529-4470-8356-D33FFAF98600.jpeg   \n",
       "..    ...              ...                                        ...   \n",
       "115   NaN              NaN  aa38ce1ae733252bd6750570982613_jumbo.jpeg   \n",
       "116  59.0            Worse  5626fb96f86acbf11d87342185c3c5_jumbo.jpeg   \n",
       "117   NaN              NaN  a6b02e3069a37b8abea2d1b79815b2_jumbo.jpeg   \n",
       "118  60.0            Worse  fd96bc48f3d957dea1f85e2f5fb46f_jumbo.jpeg   \n",
       "119   NaN              NaN  79b23ca06dbe2ea2b5b49b9f53cbf1_jumbo.jpeg   \n",
       "\n",
       "     geo_extent   opacity  \n",
       "0      0.948288  1.000328  \n",
       "1      1.538561  1.372207  \n",
       "2      4.653521  3.334674  \n",
       "3      6.292536  4.367275  \n",
       "4      2.286859  1.843645  \n",
       "..          ...       ...  \n",
       "115    0.963966  1.010205  \n",
       "116    4.911565  3.497245  \n",
       "117    4.105204  2.989227  \n",
       "118    0.989128  1.026057  \n",
       "119    3.441354  2.570993  \n",
       "\n",
       "[120 rows x 5 columns]"
      ],
      "text/html": "<div>\n<style scoped>\n    .dataframe tbody tr th:only-of-type {\n        vertical-align: middle;\n    }\n\n    .dataframe tbody tr th {\n        vertical-align: top;\n    }\n\n    .dataframe thead th {\n        text-align: right;\n    }\n</style>\n<table border=\"1\" class=\"dataframe\">\n  <thead>\n    <tr style=\"text-align: right;\">\n      <th></th>\n      <th>Pair</th>\n      <th>Outcome category</th>\n      <th>Filename</th>\n      <th>geo_extent</th>\n      <th>opacity</th>\n    </tr>\n  </thead>\n  <tbody>\n    <tr>\n      <th>0</th>\n      <td>1.0</td>\n      <td>Worse</td>\n      <td>8FDE8DBA-CFBD-4B4C-B1A4-6F36A93B7E87.jpeg</td>\n      <td>0.948288</td>\n      <td>1.000328</td>\n    </tr>\n    <tr>\n      <th>1</th>\n      <td>NaN</td>\n      <td>NaN</td>\n      <td>9C34AF49-E589-44D5-92D3-168B3B04E4A6.jpeg</td>\n      <td>1.538561</td>\n      <td>1.372207</td>\n    </tr>\n    <tr>\n      <th>2</th>\n      <td>2.0</td>\n      <td>Worse</td>\n      <td>F2DE909F-E19C-4900-92F5-8F435B031AC6.jpeg</td>\n      <td>4.653521</td>\n      <td>3.334674</td>\n    </tr>\n    <tr>\n      <th>3</th>\n      <td>NaN</td>\n      <td>NaN</td>\n      <td>31BA3780-2323-493F-8AED-62081B9C383B.jpeg</td>\n      <td>6.292536</td>\n      <td>4.367275</td>\n    </tr>\n    <tr>\n      <th>4</th>\n      <td>3.0</td>\n      <td>Worse</td>\n      <td>7D2CF6CE-F529-4470-8356-D33FFAF98600.jpeg</td>\n      <td>2.286859</td>\n      <td>1.843645</td>\n    </tr>\n    <tr>\n      <th>...</th>\n      <td>...</td>\n      <td>...</td>\n      <td>...</td>\n      <td>...</td>\n      <td>...</td>\n    </tr>\n    <tr>\n      <th>115</th>\n      <td>NaN</td>\n      <td>NaN</td>\n      <td>aa38ce1ae733252bd6750570982613_jumbo.jpeg</td>\n      <td>0.963966</td>\n      <td>1.010205</td>\n    </tr>\n    <tr>\n      <th>116</th>\n      <td>59.0</td>\n      <td>Worse</td>\n      <td>5626fb96f86acbf11d87342185c3c5_jumbo.jpeg</td>\n      <td>4.911565</td>\n      <td>3.497245</td>\n    </tr>\n    <tr>\n      <th>117</th>\n      <td>NaN</td>\n      <td>NaN</td>\n      <td>a6b02e3069a37b8abea2d1b79815b2_jumbo.jpeg</td>\n      <td>4.105204</td>\n      <td>2.989227</td>\n    </tr>\n    <tr>\n      <th>118</th>\n      <td>60.0</td>\n      <td>Worse</td>\n      <td>fd96bc48f3d957dea1f85e2f5fb46f_jumbo.jpeg</td>\n      <td>0.989128</td>\n      <td>1.026057</td>\n    </tr>\n    <tr>\n      <th>119</th>\n      <td>NaN</td>\n      <td>NaN</td>\n      <td>79b23ca06dbe2ea2b5b49b9f53cbf1_jumbo.jpeg</td>\n      <td>3.441354</td>\n      <td>2.570993</td>\n    </tr>\n  </tbody>\n</table>\n<p>120 rows × 5 columns</p>\n</div>"
     },
     "metadata": {},
     "execution_count": 18
    }
   ],
   "source": [
    "left_on"
   ]
  },
  {
   "cell_type": "code",
   "execution_count": 21,
   "metadata": {},
   "outputs": [
    {
     "output_type": "execute_result",
     "data": {
      "text/plain": [
       "3.441354358435459"
      ]
     },
     "metadata": {},
     "execution_count": 21
    }
   ],
   "source": [
    "left_on[\"geo_extent\"][119]"
   ]
  },
  {
   "cell_type": "code",
   "execution_count": 22,
   "metadata": {},
   "outputs": [
    {
     "output_type": "stream",
     "name": "stderr",
     "text": [
      "<ipython-input-22-960749a53a1a>:1: SettingWithCopyWarning: \nA value is trying to be set on a copy of a slice from a DataFrame.\nTry using .loc[row_indexer,col_indexer] = value instead\n\nSee the caveats in the documentation: https://pandas.pydata.org/pandas-docs/stable/user_guide/indexing.html#returning-a-view-versus-a-copy\n  left_on[\"sub_geo\"] = None\n"
     ]
    }
   ],
   "source": [
    "left_on[\"sub_geo\"] = None"
   ]
  },
  {
   "cell_type": "code",
   "execution_count": 23,
   "metadata": {},
   "outputs": [
    {
     "output_type": "stream",
     "name": "stderr",
     "text": [
      "<ipython-input-23-d1bc76595c00>:1: SettingWithCopyWarning: \nA value is trying to be set on a copy of a slice from a DataFrame.\nTry using .loc[row_indexer,col_indexer] = value instead\n\nSee the caveats in the documentation: https://pandas.pydata.org/pandas-docs/stable/user_guide/indexing.html#returning-a-view-versus-a-copy\n  left_on[\"sub_opacity\"] = None\n"
     ]
    }
   ],
   "source": [
    "left_on[\"sub_opacity\"] = None"
   ]
  },
  {
   "cell_type": "code",
   "execution_count": 24,
   "metadata": {},
   "outputs": [
    {
     "output_type": "stream",
     "name": "stderr",
     "text": [
      "<ipython-input-24-92af323e1f42>:3: SettingWithCopyWarning: \nA value is trying to be set on a copy of a slice from a DataFrame\n\nSee the caveats in the documentation: https://pandas.pydata.org/pandas-docs/stable/user_guide/indexing.html#returning-a-view-versus-a-copy\n  left_on[\"sub_opacity\"][i] = left_on[\"opacity\"][i+1] - left_on[\"opacity\"][i]\n<ipython-input-24-92af323e1f42>:2: SettingWithCopyWarning: \nA value is trying to be set on a copy of a slice from a DataFrame\n\nSee the caveats in the documentation: https://pandas.pydata.org/pandas-docs/stable/user_guide/indexing.html#returning-a-view-versus-a-copy\n  left_on[\"sub_geo\"][i] = left_on[\"geo_extent\"][i+1] - left_on[\"geo_extent\"][i]\n"
     ]
    }
   ],
   "source": [
    "for i in range(119):\n",
    "    left_on[\"sub_geo\"][i] = left_on[\"geo_extent\"][i+1] - left_on[\"geo_extent\"][i]\n",
    "    left_on[\"sub_opacity\"][i] = left_on[\"opacity\"][i+1] - left_on[\"opacity\"][i]\n"
   ]
  },
  {
   "cell_type": "code",
   "execution_count": 26,
   "metadata": {},
   "outputs": [
    {
     "output_type": "execute_result",
     "data": {
      "text/plain": [
       "     Pair Outcome category                                   Filename  \\\n",
       "0     1.0            Worse  8FDE8DBA-CFBD-4B4C-B1A4-6F36A93B7E87.jpeg   \n",
       "1     NaN              NaN  9C34AF49-E589-44D5-92D3-168B3B04E4A6.jpeg   \n",
       "2     2.0            Worse  F2DE909F-E19C-4900-92F5-8F435B031AC6.jpeg   \n",
       "3     NaN              NaN  31BA3780-2323-493F-8AED-62081B9C383B.jpeg   \n",
       "4     3.0            Worse  7D2CF6CE-F529-4470-8356-D33FFAF98600.jpeg   \n",
       "..    ...              ...                                        ...   \n",
       "115   NaN              NaN  aa38ce1ae733252bd6750570982613_jumbo.jpeg   \n",
       "116  59.0            Worse  5626fb96f86acbf11d87342185c3c5_jumbo.jpeg   \n",
       "117   NaN              NaN  a6b02e3069a37b8abea2d1b79815b2_jumbo.jpeg   \n",
       "118  60.0            Worse  fd96bc48f3d957dea1f85e2f5fb46f_jumbo.jpeg   \n",
       "119   NaN              NaN  79b23ca06dbe2ea2b5b49b9f53cbf1_jumbo.jpeg   \n",
       "\n",
       "     geo_extent   opacity   sub_geo sub_opacity  \n",
       "0      0.948288  1.000328  0.590273     0.37188  \n",
       "1      1.538561  1.372207   3.11496     1.96247  \n",
       "2      4.653521  3.334674   1.63901      1.0326  \n",
       "3      6.292536  4.367275  -4.00568    -2.52363  \n",
       "4      2.286859  1.843645   0.71891    0.452923  \n",
       "..          ...       ...       ...         ...  \n",
       "115    0.963966  1.010205    3.9476     2.48704  \n",
       "116    4.911565  3.497245 -0.806361   -0.508018  \n",
       "117    4.105204  2.989227  -3.11608    -1.96317  \n",
       "118    0.989128  1.026057   2.45223     1.54494  \n",
       "119    3.441354  2.570993      None        None  \n",
       "\n",
       "[120 rows x 7 columns]"
      ],
      "text/html": "<div>\n<style scoped>\n    .dataframe tbody tr th:only-of-type {\n        vertical-align: middle;\n    }\n\n    .dataframe tbody tr th {\n        vertical-align: top;\n    }\n\n    .dataframe thead th {\n        text-align: right;\n    }\n</style>\n<table border=\"1\" class=\"dataframe\">\n  <thead>\n    <tr style=\"text-align: right;\">\n      <th></th>\n      <th>Pair</th>\n      <th>Outcome category</th>\n      <th>Filename</th>\n      <th>geo_extent</th>\n      <th>opacity</th>\n      <th>sub_geo</th>\n      <th>sub_opacity</th>\n    </tr>\n  </thead>\n  <tbody>\n    <tr>\n      <th>0</th>\n      <td>1.0</td>\n      <td>Worse</td>\n      <td>8FDE8DBA-CFBD-4B4C-B1A4-6F36A93B7E87.jpeg</td>\n      <td>0.948288</td>\n      <td>1.000328</td>\n      <td>0.590273</td>\n      <td>0.37188</td>\n    </tr>\n    <tr>\n      <th>1</th>\n      <td>NaN</td>\n      <td>NaN</td>\n      <td>9C34AF49-E589-44D5-92D3-168B3B04E4A6.jpeg</td>\n      <td>1.538561</td>\n      <td>1.372207</td>\n      <td>3.11496</td>\n      <td>1.96247</td>\n    </tr>\n    <tr>\n      <th>2</th>\n      <td>2.0</td>\n      <td>Worse</td>\n      <td>F2DE909F-E19C-4900-92F5-8F435B031AC6.jpeg</td>\n      <td>4.653521</td>\n      <td>3.334674</td>\n      <td>1.63901</td>\n      <td>1.0326</td>\n    </tr>\n    <tr>\n      <th>3</th>\n      <td>NaN</td>\n      <td>NaN</td>\n      <td>31BA3780-2323-493F-8AED-62081B9C383B.jpeg</td>\n      <td>6.292536</td>\n      <td>4.367275</td>\n      <td>-4.00568</td>\n      <td>-2.52363</td>\n    </tr>\n    <tr>\n      <th>4</th>\n      <td>3.0</td>\n      <td>Worse</td>\n      <td>7D2CF6CE-F529-4470-8356-D33FFAF98600.jpeg</td>\n      <td>2.286859</td>\n      <td>1.843645</td>\n      <td>0.71891</td>\n      <td>0.452923</td>\n    </tr>\n    <tr>\n      <th>...</th>\n      <td>...</td>\n      <td>...</td>\n      <td>...</td>\n      <td>...</td>\n      <td>...</td>\n      <td>...</td>\n      <td>...</td>\n    </tr>\n    <tr>\n      <th>115</th>\n      <td>NaN</td>\n      <td>NaN</td>\n      <td>aa38ce1ae733252bd6750570982613_jumbo.jpeg</td>\n      <td>0.963966</td>\n      <td>1.010205</td>\n      <td>3.9476</td>\n      <td>2.48704</td>\n    </tr>\n    <tr>\n      <th>116</th>\n      <td>59.0</td>\n      <td>Worse</td>\n      <td>5626fb96f86acbf11d87342185c3c5_jumbo.jpeg</td>\n      <td>4.911565</td>\n      <td>3.497245</td>\n      <td>-0.806361</td>\n      <td>-0.508018</td>\n    </tr>\n    <tr>\n      <th>117</th>\n      <td>NaN</td>\n      <td>NaN</td>\n      <td>a6b02e3069a37b8abea2d1b79815b2_jumbo.jpeg</td>\n      <td>4.105204</td>\n      <td>2.989227</td>\n      <td>-3.11608</td>\n      <td>-1.96317</td>\n    </tr>\n    <tr>\n      <th>118</th>\n      <td>60.0</td>\n      <td>Worse</td>\n      <td>fd96bc48f3d957dea1f85e2f5fb46f_jumbo.jpeg</td>\n      <td>0.989128</td>\n      <td>1.026057</td>\n      <td>2.45223</td>\n      <td>1.54494</td>\n    </tr>\n    <tr>\n      <th>119</th>\n      <td>NaN</td>\n      <td>NaN</td>\n      <td>79b23ca06dbe2ea2b5b49b9f53cbf1_jumbo.jpeg</td>\n      <td>3.441354</td>\n      <td>2.570993</td>\n      <td>None</td>\n      <td>None</td>\n    </tr>\n  </tbody>\n</table>\n<p>120 rows × 7 columns</p>\n</div>"
     },
     "metadata": {},
     "execution_count": 26
    }
   ],
   "source": [
    "left_on"
   ]
  },
  {
   "cell_type": "code",
   "execution_count": 27,
   "metadata": {},
   "outputs": [
    {
     "output_type": "execute_result",
     "data": {
      "text/plain": [
       "     Pair Outcome category                                           Filename  \\\n",
       "0     1.0            Worse          8FDE8DBA-CFBD-4B4C-B1A4-6F36A93B7E87.jpeg   \n",
       "2     2.0            Worse          F2DE909F-E19C-4900-92F5-8F435B031AC6.jpeg   \n",
       "4     3.0            Worse          7D2CF6CE-F529-4470-8356-D33FFAF98600.jpeg   \n",
       "6     4.0            Worse          B85CA507-9EE2-497F-AA1E-32B82F75FB54.jpeg   \n",
       "8     5.0         Improved  171CB377-62FF-4B76-906C-F3787A01CB2E-2048x1475...   \n",
       "10    6.0            Worse          5931B64A-7B97-485D-BE60-3F1EA76BC4F0.jpeg   \n",
       "12    7.0            Worse          B2D20576-00B7-4519-A415-72DE29C90C34.jpeg   \n",
       "14    8.0            Worse                                             m1.png   \n",
       "16    9.0           Stable                                             m2.png   \n",
       "18   10.0           Stable                                             m3.png   \n",
       "20   11.0            Worse                                              1.png   \n",
       "22   12.0            Worse                                            6_1.png   \n",
       "24   13.0           Stable                              nejmoa2001191_f1.jpeg   \n",
       "26   14.0            Worse                              nejmoa2001191_f3.jpeg   \n",
       "28   15.0            Worse                              nejmoa2001191_f4.jpeg   \n",
       "30   16.0            Worse                                           16_1.png   \n",
       "32   17.0            Worse                                           16_2.png   \n",
       "34   18.0            Worse                                           17_1.png   \n",
       "36   19.0         Improved                                           17_2.png   \n",
       "38   20.0            Worse                                           19_1.png   \n",
       "40   21.0            Worse                                           19_3.png   \n",
       "42   22.0         Improved                                           22_1.png   \n",
       "44   23.0            Worse                                           23_1.png   \n",
       "46   24.0            Worse                                           24_1.png   \n",
       "48   25.0         Improved                                           50_1.png   \n",
       "50   26.0            Worse                                           67_1.png   \n",
       "52   27.0           Stable                                           68_1.png   \n",
       "54   28.0            Worse                                           56_1.png   \n",
       "56   29.0         Improved                                           58_1.png   \n",
       "58   30.0         Improved                                   a-1690x2048.jpeg   \n",
       "60   31.0           Stable          58cb9263f16e94305c730685358e4e_jumbo.jpeg   \n",
       "62   32.0            Worse          a36d7944927e369c90035d4fcbb7af_jumbo.jpeg   \n",
       "64   33.0           Stable          c02786050656210c20eb86d3bc0d48_jumbo.jpeg   \n",
       "66   34.0            Worse          b1921029beb35ebb6bc80b1bd5c043_jumbo.jpeg   \n",
       "68   35.0            Worse          9f987e36c0a19aeb1f3c9151b66317_jumbo.jpeg   \n",
       "70   36.0            Worse          1c13301604cbe667b39ca3fe335501_jumbo.jpeg   \n",
       "72   37.0         Improved                                          112_1.png   \n",
       "74   38.0            Worse                                          113_1.png   \n",
       "76   39.0            Worse                                          114_1.png   \n",
       "78   40.0            Worse                                          115_1.png   \n",
       "80   41.0            Worse          a092a272b78ce7c23e6a490721b750_jumbo.jpeg   \n",
       "82   42.0         Improved          11368d1bfb309b273d60a7138dae35_jumbo.jpeg   \n",
       "84   43.0            Worse          32a46f77ff2a5acc2168b20b974cf8_jumbo.jpeg   \n",
       "86   44.0            Worse          b4da827908ad8209137382e301cc24_jumbo.jpeg   \n",
       "88   45.0            Worse          b418d50351b48ee58bcb4c2841e95b_jumbo.jpeg   \n",
       "90   46.0            Worse          8a7486782d3933ccd9aefbce323169_jumbo.jpeg   \n",
       "92   47.0            Worse          af5e777fb7200430ddf3de394afc39_jumbo.jpeg   \n",
       "94   48.0            Worse          3c48faa5dc2f1540fda696bae045ba_jumbo.jpeg   \n",
       "96   49.0            Worse          447d65b38231a1031586b304bc5837_jumbo.jpeg   \n",
       "98   50.0            Worse          81af553601a1bc1fdf81c99436a50b_jumbo.jpeg   \n",
       "100  51.0            Worse          6569c8c81140e5dd571f51ee6ae42a_jumbo.jpeg   \n",
       "102  52.0            Worse          d7b08174f3f6151654408d34fb8593_jumbo.jpeg   \n",
       "104  53.0           Stable                                       display.jpeg   \n",
       "106  54.0            Worse                                          160_1.png   \n",
       "108  55.0            Worse                                          160_2.png   \n",
       "110  56.0            Worse          61c6828be4bb24b9e29e6ebfcfec0a_jumbo.jpeg   \n",
       "112  57.0            Worse          bc4aafa5ad0aaa24a92afe73b06e74_jumbo.jpeg   \n",
       "114  58.0           Stable          a6251eb08fa6877bcbf42e8d037f5d_jumbo.jpeg   \n",
       "116  59.0            Worse          5626fb96f86acbf11d87342185c3c5_jumbo.jpeg   \n",
       "118  60.0            Worse          fd96bc48f3d957dea1f85e2f5fb46f_jumbo.jpeg   \n",
       "\n",
       "     geo_extent   opacity    sub_geo sub_opacity  \n",
       "0      0.948288  1.000328   0.590273     0.37188  \n",
       "2      4.653521  3.334674    1.63901      1.0326  \n",
       "4      2.286859  1.843645    0.71891    0.452923  \n",
       "6      3.917807  2.871164    2.19814     1.38486  \n",
       "8      6.115947  4.256022   -1.52853   -0.962992  \n",
       "10     4.587421  3.293030  -0.420618   -0.264995  \n",
       "12     5.226992  3.695968   0.864569     0.54469  \n",
       "14     2.745918  2.132858  -0.643764    -0.40558  \n",
       "16     2.102154  1.727279   0.850338    0.535724  \n",
       "18     2.952492  2.263003   0.420448    0.264888  \n",
       "20     3.394188  2.541277  -0.294429   -0.185494  \n",
       "22     5.260555  3.717113    1.08467    0.683358  \n",
       "24     0.028320  0.420736    1.44302     0.90912  \n",
       "26     1.471338  1.329856   0.566092    0.356646  \n",
       "28     2.037430  1.686502   0.685848    0.432094  \n",
       "30     3.539635  2.632911     1.0789    0.679723  \n",
       "32     4.618538  3.312634  -0.687235   -0.432967  \n",
       "34     2.566579  2.019873  -0.222639   -0.140266  \n",
       "36     2.343940  1.879607   0.964604    0.607714  \n",
       "38     3.976292  2.908010    -0.2671   -0.168276  \n",
       "40     4.493654  3.233956    -3.5829    -2.25728  \n",
       "42     4.414876  3.184324  -0.348783   -0.219738  \n",
       "44     5.278522  3.728433  -0.759241   -0.478332  \n",
       "46     4.476704  3.223277    1.17116    0.737847  \n",
       "48     3.813345  2.805352  -0.667355   -0.420443  \n",
       "50     1.254507  1.193250   -0.68716    -0.43292  \n",
       "52     0.000000  0.033136    1.37947     1.23884  \n",
       "54     2.584735  2.031311  -0.189139    -0.11916  \n",
       "56     2.976109  2.277882   -0.77751   -0.489841  \n",
       "58     5.227741  3.696440   -3.29359      -2.075  \n",
       "60     1.844783  1.565131   0.460583    0.290173  \n",
       "62     2.504276  1.980621    1.23456    0.777791  \n",
       "64     3.738838  2.758411    1.73349     1.09212  \n",
       "66     6.476404  4.483115  0.0765616   0.0482348  \n",
       "68     6.552965  4.531349    1.44703     1.46865  \n",
       "70     8.000000  6.000000   -1.39122    -1.43348  \n",
       "72     1.523364  1.362633   0.315863    0.198998  \n",
       "74     0.000000  0.000000    1.14408     1.12368  \n",
       "76     3.290491  2.475947 -0.0962912  -0.0606648  \n",
       "78     3.872545  2.842649 -0.0886059  -0.0558229  \n",
       "80     3.232374  2.439332    1.45582    0.917186  \n",
       "82     4.688193  3.356518   -1.03543   -0.652332  \n",
       "84     2.376316  1.900004    2.68361     1.69071  \n",
       "86     5.059924  3.590713  -0.941171    -0.59295  \n",
       "88     4.118753  2.997763    1.19407    0.752281  \n",
       "90     2.442323  1.941590   0.345257    0.217516  \n",
       "92     2.787580  2.159106    2.34433     1.47696  \n",
       "94     2.480489  1.965635   0.956969    0.602903  \n",
       "96     3.437458  2.568538   0.708419    0.446313  \n",
       "98     4.145876  3.014851   -1.79815    -1.13286  \n",
       "100    2.257249  1.824991    1.88186     1.18559  \n",
       "102    4.500945  3.238549   0.535751    0.337531  \n",
       "104    4.275742  3.096668  -0.933191   -0.587923  \n",
       "106    4.218477  3.060590   0.695134    0.437944  \n",
       "108    4.913611  3.498534  -0.773999    -0.48763  \n",
       "110    5.425770  3.821201   -3.14799    -1.98328  \n",
       "112    3.685188  2.724611    1.87047     1.17842  \n",
       "114    1.579815  1.398198   -0.61585   -0.387993  \n",
       "116    4.911565  3.497245  -0.806361   -0.508018  \n",
       "118    0.989128  1.026057    2.45223     1.54494  "
      ],
      "text/html": "<div>\n<style scoped>\n    .dataframe tbody tr th:only-of-type {\n        vertical-align: middle;\n    }\n\n    .dataframe tbody tr th {\n        vertical-align: top;\n    }\n\n    .dataframe thead th {\n        text-align: right;\n    }\n</style>\n<table border=\"1\" class=\"dataframe\">\n  <thead>\n    <tr style=\"text-align: right;\">\n      <th></th>\n      <th>Pair</th>\n      <th>Outcome category</th>\n      <th>Filename</th>\n      <th>geo_extent</th>\n      <th>opacity</th>\n      <th>sub_geo</th>\n      <th>sub_opacity</th>\n    </tr>\n  </thead>\n  <tbody>\n    <tr>\n      <th>0</th>\n      <td>1.0</td>\n      <td>Worse</td>\n      <td>8FDE8DBA-CFBD-4B4C-B1A4-6F36A93B7E87.jpeg</td>\n      <td>0.948288</td>\n      <td>1.000328</td>\n      <td>0.590273</td>\n      <td>0.37188</td>\n    </tr>\n    <tr>\n      <th>2</th>\n      <td>2.0</td>\n      <td>Worse</td>\n      <td>F2DE909F-E19C-4900-92F5-8F435B031AC6.jpeg</td>\n      <td>4.653521</td>\n      <td>3.334674</td>\n      <td>1.63901</td>\n      <td>1.0326</td>\n    </tr>\n    <tr>\n      <th>4</th>\n      <td>3.0</td>\n      <td>Worse</td>\n      <td>7D2CF6CE-F529-4470-8356-D33FFAF98600.jpeg</td>\n      <td>2.286859</td>\n      <td>1.843645</td>\n      <td>0.71891</td>\n      <td>0.452923</td>\n    </tr>\n    <tr>\n      <th>6</th>\n      <td>4.0</td>\n      <td>Worse</td>\n      <td>B85CA507-9EE2-497F-AA1E-32B82F75FB54.jpeg</td>\n      <td>3.917807</td>\n      <td>2.871164</td>\n      <td>2.19814</td>\n      <td>1.38486</td>\n    </tr>\n    <tr>\n      <th>8</th>\n      <td>5.0</td>\n      <td>Improved</td>\n      <td>171CB377-62FF-4B76-906C-F3787A01CB2E-2048x1475...</td>\n      <td>6.115947</td>\n      <td>4.256022</td>\n      <td>-1.52853</td>\n      <td>-0.962992</td>\n    </tr>\n    <tr>\n      <th>10</th>\n      <td>6.0</td>\n      <td>Worse</td>\n      <td>5931B64A-7B97-485D-BE60-3F1EA76BC4F0.jpeg</td>\n      <td>4.587421</td>\n      <td>3.293030</td>\n      <td>-0.420618</td>\n      <td>-0.264995</td>\n    </tr>\n    <tr>\n      <th>12</th>\n      <td>7.0</td>\n      <td>Worse</td>\n      <td>B2D20576-00B7-4519-A415-72DE29C90C34.jpeg</td>\n      <td>5.226992</td>\n      <td>3.695968</td>\n      <td>0.864569</td>\n      <td>0.54469</td>\n    </tr>\n    <tr>\n      <th>14</th>\n      <td>8.0</td>\n      <td>Worse</td>\n      <td>m1.png</td>\n      <td>2.745918</td>\n      <td>2.132858</td>\n      <td>-0.643764</td>\n      <td>-0.40558</td>\n    </tr>\n    <tr>\n      <th>16</th>\n      <td>9.0</td>\n      <td>Stable</td>\n      <td>m2.png</td>\n      <td>2.102154</td>\n      <td>1.727279</td>\n      <td>0.850338</td>\n      <td>0.535724</td>\n    </tr>\n    <tr>\n      <th>18</th>\n      <td>10.0</td>\n      <td>Stable</td>\n      <td>m3.png</td>\n      <td>2.952492</td>\n      <td>2.263003</td>\n      <td>0.420448</td>\n      <td>0.264888</td>\n    </tr>\n    <tr>\n      <th>20</th>\n      <td>11.0</td>\n      <td>Worse</td>\n      <td>1.png</td>\n      <td>3.394188</td>\n      <td>2.541277</td>\n      <td>-0.294429</td>\n      <td>-0.185494</td>\n    </tr>\n    <tr>\n      <th>22</th>\n      <td>12.0</td>\n      <td>Worse</td>\n      <td>6_1.png</td>\n      <td>5.260555</td>\n      <td>3.717113</td>\n      <td>1.08467</td>\n      <td>0.683358</td>\n    </tr>\n    <tr>\n      <th>24</th>\n      <td>13.0</td>\n      <td>Stable</td>\n      <td>nejmoa2001191_f1.jpeg</td>\n      <td>0.028320</td>\n      <td>0.420736</td>\n      <td>1.44302</td>\n      <td>0.90912</td>\n    </tr>\n    <tr>\n      <th>26</th>\n      <td>14.0</td>\n      <td>Worse</td>\n      <td>nejmoa2001191_f3.jpeg</td>\n      <td>1.471338</td>\n      <td>1.329856</td>\n      <td>0.566092</td>\n      <td>0.356646</td>\n    </tr>\n    <tr>\n      <th>28</th>\n      <td>15.0</td>\n      <td>Worse</td>\n      <td>nejmoa2001191_f4.jpeg</td>\n      <td>2.037430</td>\n      <td>1.686502</td>\n      <td>0.685848</td>\n      <td>0.432094</td>\n    </tr>\n    <tr>\n      <th>30</th>\n      <td>16.0</td>\n      <td>Worse</td>\n      <td>16_1.png</td>\n      <td>3.539635</td>\n      <td>2.632911</td>\n      <td>1.0789</td>\n      <td>0.679723</td>\n    </tr>\n    <tr>\n      <th>32</th>\n      <td>17.0</td>\n      <td>Worse</td>\n      <td>16_2.png</td>\n      <td>4.618538</td>\n      <td>3.312634</td>\n      <td>-0.687235</td>\n      <td>-0.432967</td>\n    </tr>\n    <tr>\n      <th>34</th>\n      <td>18.0</td>\n      <td>Worse</td>\n      <td>17_1.png</td>\n      <td>2.566579</td>\n      <td>2.019873</td>\n      <td>-0.222639</td>\n      <td>-0.140266</td>\n    </tr>\n    <tr>\n      <th>36</th>\n      <td>19.0</td>\n      <td>Improved</td>\n      <td>17_2.png</td>\n      <td>2.343940</td>\n      <td>1.879607</td>\n      <td>0.964604</td>\n      <td>0.607714</td>\n    </tr>\n    <tr>\n      <th>38</th>\n      <td>20.0</td>\n      <td>Worse</td>\n      <td>19_1.png</td>\n      <td>3.976292</td>\n      <td>2.908010</td>\n      <td>-0.2671</td>\n      <td>-0.168276</td>\n    </tr>\n    <tr>\n      <th>40</th>\n      <td>21.0</td>\n      <td>Worse</td>\n      <td>19_3.png</td>\n      <td>4.493654</td>\n      <td>3.233956</td>\n      <td>-3.5829</td>\n      <td>-2.25728</td>\n    </tr>\n    <tr>\n      <th>42</th>\n      <td>22.0</td>\n      <td>Improved</td>\n      <td>22_1.png</td>\n      <td>4.414876</td>\n      <td>3.184324</td>\n      <td>-0.348783</td>\n      <td>-0.219738</td>\n    </tr>\n    <tr>\n      <th>44</th>\n      <td>23.0</td>\n      <td>Worse</td>\n      <td>23_1.png</td>\n      <td>5.278522</td>\n      <td>3.728433</td>\n      <td>-0.759241</td>\n      <td>-0.478332</td>\n    </tr>\n    <tr>\n      <th>46</th>\n      <td>24.0</td>\n      <td>Worse</td>\n      <td>24_1.png</td>\n      <td>4.476704</td>\n      <td>3.223277</td>\n      <td>1.17116</td>\n      <td>0.737847</td>\n    </tr>\n    <tr>\n      <th>48</th>\n      <td>25.0</td>\n      <td>Improved</td>\n      <td>50_1.png</td>\n      <td>3.813345</td>\n      <td>2.805352</td>\n      <td>-0.667355</td>\n      <td>-0.420443</td>\n    </tr>\n    <tr>\n      <th>50</th>\n      <td>26.0</td>\n      <td>Worse</td>\n      <td>67_1.png</td>\n      <td>1.254507</td>\n      <td>1.193250</td>\n      <td>-0.68716</td>\n      <td>-0.43292</td>\n    </tr>\n    <tr>\n      <th>52</th>\n      <td>27.0</td>\n      <td>Stable</td>\n      <td>68_1.png</td>\n      <td>0.000000</td>\n      <td>0.033136</td>\n      <td>1.37947</td>\n      <td>1.23884</td>\n    </tr>\n    <tr>\n      <th>54</th>\n      <td>28.0</td>\n      <td>Worse</td>\n      <td>56_1.png</td>\n      <td>2.584735</td>\n      <td>2.031311</td>\n      <td>-0.189139</td>\n      <td>-0.11916</td>\n    </tr>\n    <tr>\n      <th>56</th>\n      <td>29.0</td>\n      <td>Improved</td>\n      <td>58_1.png</td>\n      <td>2.976109</td>\n      <td>2.277882</td>\n      <td>-0.77751</td>\n      <td>-0.489841</td>\n    </tr>\n    <tr>\n      <th>58</th>\n      <td>30.0</td>\n      <td>Improved</td>\n      <td>a-1690x2048.jpeg</td>\n      <td>5.227741</td>\n      <td>3.696440</td>\n      <td>-3.29359</td>\n      <td>-2.075</td>\n    </tr>\n    <tr>\n      <th>60</th>\n      <td>31.0</td>\n      <td>Stable</td>\n      <td>58cb9263f16e94305c730685358e4e_jumbo.jpeg</td>\n      <td>1.844783</td>\n      <td>1.565131</td>\n      <td>0.460583</td>\n      <td>0.290173</td>\n    </tr>\n    <tr>\n      <th>62</th>\n      <td>32.0</td>\n      <td>Worse</td>\n      <td>a36d7944927e369c90035d4fcbb7af_jumbo.jpeg</td>\n      <td>2.504276</td>\n      <td>1.980621</td>\n      <td>1.23456</td>\n      <td>0.777791</td>\n    </tr>\n    <tr>\n      <th>64</th>\n      <td>33.0</td>\n      <td>Stable</td>\n      <td>c02786050656210c20eb86d3bc0d48_jumbo.jpeg</td>\n      <td>3.738838</td>\n      <td>2.758411</td>\n      <td>1.73349</td>\n      <td>1.09212</td>\n    </tr>\n    <tr>\n      <th>66</th>\n      <td>34.0</td>\n      <td>Worse</td>\n      <td>b1921029beb35ebb6bc80b1bd5c043_jumbo.jpeg</td>\n      <td>6.476404</td>\n      <td>4.483115</td>\n      <td>0.0765616</td>\n      <td>0.0482348</td>\n    </tr>\n    <tr>\n      <th>68</th>\n      <td>35.0</td>\n      <td>Worse</td>\n      <td>9f987e36c0a19aeb1f3c9151b66317_jumbo.jpeg</td>\n      <td>6.552965</td>\n      <td>4.531349</td>\n      <td>1.44703</td>\n      <td>1.46865</td>\n    </tr>\n    <tr>\n      <th>70</th>\n      <td>36.0</td>\n      <td>Worse</td>\n      <td>1c13301604cbe667b39ca3fe335501_jumbo.jpeg</td>\n      <td>8.000000</td>\n      <td>6.000000</td>\n      <td>-1.39122</td>\n      <td>-1.43348</td>\n    </tr>\n    <tr>\n      <th>72</th>\n      <td>37.0</td>\n      <td>Improved</td>\n      <td>112_1.png</td>\n      <td>1.523364</td>\n      <td>1.362633</td>\n      <td>0.315863</td>\n      <td>0.198998</td>\n    </tr>\n    <tr>\n      <th>74</th>\n      <td>38.0</td>\n      <td>Worse</td>\n      <td>113_1.png</td>\n      <td>0.000000</td>\n      <td>0.000000</td>\n      <td>1.14408</td>\n      <td>1.12368</td>\n    </tr>\n    <tr>\n      <th>76</th>\n      <td>39.0</td>\n      <td>Worse</td>\n      <td>114_1.png</td>\n      <td>3.290491</td>\n      <td>2.475947</td>\n      <td>-0.0962912</td>\n      <td>-0.0606648</td>\n    </tr>\n    <tr>\n      <th>78</th>\n      <td>40.0</td>\n      <td>Worse</td>\n      <td>115_1.png</td>\n      <td>3.872545</td>\n      <td>2.842649</td>\n      <td>-0.0886059</td>\n      <td>-0.0558229</td>\n    </tr>\n    <tr>\n      <th>80</th>\n      <td>41.0</td>\n      <td>Worse</td>\n      <td>a092a272b78ce7c23e6a490721b750_jumbo.jpeg</td>\n      <td>3.232374</td>\n      <td>2.439332</td>\n      <td>1.45582</td>\n      <td>0.917186</td>\n    </tr>\n    <tr>\n      <th>82</th>\n      <td>42.0</td>\n      <td>Improved</td>\n      <td>11368d1bfb309b273d60a7138dae35_jumbo.jpeg</td>\n      <td>4.688193</td>\n      <td>3.356518</td>\n      <td>-1.03543</td>\n      <td>-0.652332</td>\n    </tr>\n    <tr>\n      <th>84</th>\n      <td>43.0</td>\n      <td>Worse</td>\n      <td>32a46f77ff2a5acc2168b20b974cf8_jumbo.jpeg</td>\n      <td>2.376316</td>\n      <td>1.900004</td>\n      <td>2.68361</td>\n      <td>1.69071</td>\n    </tr>\n    <tr>\n      <th>86</th>\n      <td>44.0</td>\n      <td>Worse</td>\n      <td>b4da827908ad8209137382e301cc24_jumbo.jpeg</td>\n      <td>5.059924</td>\n      <td>3.590713</td>\n      <td>-0.941171</td>\n      <td>-0.59295</td>\n    </tr>\n    <tr>\n      <th>88</th>\n      <td>45.0</td>\n      <td>Worse</td>\n      <td>b418d50351b48ee58bcb4c2841e95b_jumbo.jpeg</td>\n      <td>4.118753</td>\n      <td>2.997763</td>\n      <td>1.19407</td>\n      <td>0.752281</td>\n    </tr>\n    <tr>\n      <th>90</th>\n      <td>46.0</td>\n      <td>Worse</td>\n      <td>8a7486782d3933ccd9aefbce323169_jumbo.jpeg</td>\n      <td>2.442323</td>\n      <td>1.941590</td>\n      <td>0.345257</td>\n      <td>0.217516</td>\n    </tr>\n    <tr>\n      <th>92</th>\n      <td>47.0</td>\n      <td>Worse</td>\n      <td>af5e777fb7200430ddf3de394afc39_jumbo.jpeg</td>\n      <td>2.787580</td>\n      <td>2.159106</td>\n      <td>2.34433</td>\n      <td>1.47696</td>\n    </tr>\n    <tr>\n      <th>94</th>\n      <td>48.0</td>\n      <td>Worse</td>\n      <td>3c48faa5dc2f1540fda696bae045ba_jumbo.jpeg</td>\n      <td>2.480489</td>\n      <td>1.965635</td>\n      <td>0.956969</td>\n      <td>0.602903</td>\n    </tr>\n    <tr>\n      <th>96</th>\n      <td>49.0</td>\n      <td>Worse</td>\n      <td>447d65b38231a1031586b304bc5837_jumbo.jpeg</td>\n      <td>3.437458</td>\n      <td>2.568538</td>\n      <td>0.708419</td>\n      <td>0.446313</td>\n    </tr>\n    <tr>\n      <th>98</th>\n      <td>50.0</td>\n      <td>Worse</td>\n      <td>81af553601a1bc1fdf81c99436a50b_jumbo.jpeg</td>\n      <td>4.145876</td>\n      <td>3.014851</td>\n      <td>-1.79815</td>\n      <td>-1.13286</td>\n    </tr>\n    <tr>\n      <th>100</th>\n      <td>51.0</td>\n      <td>Worse</td>\n      <td>6569c8c81140e5dd571f51ee6ae42a_jumbo.jpeg</td>\n      <td>2.257249</td>\n      <td>1.824991</td>\n      <td>1.88186</td>\n      <td>1.18559</td>\n    </tr>\n    <tr>\n      <th>102</th>\n      <td>52.0</td>\n      <td>Worse</td>\n      <td>d7b08174f3f6151654408d34fb8593_jumbo.jpeg</td>\n      <td>4.500945</td>\n      <td>3.238549</td>\n      <td>0.535751</td>\n      <td>0.337531</td>\n    </tr>\n    <tr>\n      <th>104</th>\n      <td>53.0</td>\n      <td>Stable</td>\n      <td>display.jpeg</td>\n      <td>4.275742</td>\n      <td>3.096668</td>\n      <td>-0.933191</td>\n      <td>-0.587923</td>\n    </tr>\n    <tr>\n      <th>106</th>\n      <td>54.0</td>\n      <td>Worse</td>\n      <td>160_1.png</td>\n      <td>4.218477</td>\n      <td>3.060590</td>\n      <td>0.695134</td>\n      <td>0.437944</td>\n    </tr>\n    <tr>\n      <th>108</th>\n      <td>55.0</td>\n      <td>Worse</td>\n      <td>160_2.png</td>\n      <td>4.913611</td>\n      <td>3.498534</td>\n      <td>-0.773999</td>\n      <td>-0.48763</td>\n    </tr>\n    <tr>\n      <th>110</th>\n      <td>56.0</td>\n      <td>Worse</td>\n      <td>61c6828be4bb24b9e29e6ebfcfec0a_jumbo.jpeg</td>\n      <td>5.425770</td>\n      <td>3.821201</td>\n      <td>-3.14799</td>\n      <td>-1.98328</td>\n    </tr>\n    <tr>\n      <th>112</th>\n      <td>57.0</td>\n      <td>Worse</td>\n      <td>bc4aafa5ad0aaa24a92afe73b06e74_jumbo.jpeg</td>\n      <td>3.685188</td>\n      <td>2.724611</td>\n      <td>1.87047</td>\n      <td>1.17842</td>\n    </tr>\n    <tr>\n      <th>114</th>\n      <td>58.0</td>\n      <td>Stable</td>\n      <td>a6251eb08fa6877bcbf42e8d037f5d_jumbo.jpeg</td>\n      <td>1.579815</td>\n      <td>1.398198</td>\n      <td>-0.61585</td>\n      <td>-0.387993</td>\n    </tr>\n    <tr>\n      <th>116</th>\n      <td>59.0</td>\n      <td>Worse</td>\n      <td>5626fb96f86acbf11d87342185c3c5_jumbo.jpeg</td>\n      <td>4.911565</td>\n      <td>3.497245</td>\n      <td>-0.806361</td>\n      <td>-0.508018</td>\n    </tr>\n    <tr>\n      <th>118</th>\n      <td>60.0</td>\n      <td>Worse</td>\n      <td>fd96bc48f3d957dea1f85e2f5fb46f_jumbo.jpeg</td>\n      <td>0.989128</td>\n      <td>1.026057</td>\n      <td>2.45223</td>\n      <td>1.54494</td>\n    </tr>\n  </tbody>\n</table>\n</div>"
     },
     "metadata": {},
     "execution_count": 27
    }
   ],
   "source": [
    "left_on.dropna(axis=0,how='any')"
   ]
  },
  {
   "cell_type": "code",
   "execution_count": 28,
   "metadata": {},
   "outputs": [],
   "source": [
    "train = left_on.dropna(axis=0,how='any')"
   ]
  },
  {
   "cell_type": "code",
   "execution_count": 29,
   "metadata": {},
   "outputs": [],
   "source": [
    "train.to_csv(\"train.csv\")"
   ]
  },
  {
   "cell_type": "code",
   "execution_count": null,
   "metadata": {},
   "outputs": [],
   "source": []
  }
 ]
}