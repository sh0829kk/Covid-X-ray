{
 "metadata": {
  "language_info": {
   "codemirror_mode": {
    "name": "ipython",
    "version": 3
   },
   "file_extension": ".py",
   "mimetype": "text/x-python",
   "name": "python",
   "nbconvert_exporter": "python",
   "pygments_lexer": "ipython3",
   "version": "3.8.5"
  },
  "orig_nbformat": 2,
  "kernelspec": {
   "name": "python385jvsc74a57bd0ea23a4e211529f310423b8b8f6686fdd6f68d6b24bda7893cebd52920fa1260b",
   "display_name": "Python 3.8.5 64-bit ('base': conda)"
  }
 },
 "nbformat": 4,
 "nbformat_minor": 2,
 "cells": [
  {
   "cell_type": "code",
   "execution_count": 8,
   "metadata": {},
   "outputs": [],
   "source": [
    "import os,sys\n",
    "import csv\n",
    "import pandas as pd "
   ]
  },
  {
   "cell_type": "code",
   "execution_count": 3,
   "metadata": {},
   "outputs": [],
   "source": [
    "path = os.listdir('/Users/linkeke/Downloads/rsna-pneumonia-detection-challenge/stage_2_train_images/Transform')"
   ]
  },
  {
   "cell_type": "code",
   "execution_count": 6,
   "metadata": {},
   "outputs": [],
   "source": [
    "with open(\"data.csv\",\"w\") as csvfile:\n",
    "    writer = csv.writer(csvfile)\n",
    "    #write cols name\n",
    "    writer.writerow([\"patientID\",\"filename\",\"Target\",\"finding\"])\n",
    "    for filename in path:\n",
    "        writer.writerow([filename[:-4],filename,None,0])\n",
    "    "
   ]
  },
  {
   "cell_type": "code",
   "execution_count": 7,
   "metadata": {},
   "outputs": [
    {
     "output_type": "execute_result",
     "data": {
      "text/plain": [
       "['.DS_Store',\n",
       " 'c769a794-11cc-4b06-a97b-1acdca816ae1.png',\n",
       " '9f434de4-5c5b-48c2-828f-8f04a7c51739.png',\n",
       " 'a23af76a-d365-4529-837b-0e8ed2ab5569.png',\n",
       " '0053ee32-1e03-4dc2-a103-f46ad0448787.png']"
      ]
     },
     "metadata": {},
     "execution_count": 7
    }
   ],
   "source": [
    "path[0:5]"
   ]
  },
  {
   "cell_type": "code",
   "execution_count": 38,
   "metadata": {},
   "outputs": [],
   "source": [
    "right1 = pd.read_csv('/Users/linkeke/Downloads/rsna-pneumonia-detection-challenge/stage_2_train_labels.csv')\n",
    "right1 = right1.rename(columns={'patientId':'patientID'})"
   ]
  },
  {
   "cell_type": "code",
   "execution_count": 25,
   "metadata": {},
   "outputs": [
    {
     "output_type": "execute_result",
     "data": {
      "text/plain": [
       "                                 patientID  \\\n",
       "0     c769a794-11cc-4b06-a97b-1acdca816ae1   \n",
       "1     9f434de4-5c5b-48c2-828f-8f04a7c51739   \n",
       "2     a23af76a-d365-4529-837b-0e8ed2ab5569   \n",
       "3     0053ee32-1e03-4dc2-a103-f46ad0448787   \n",
       "4     f07012f0-57e8-4d02-951f-087ae7c8ce5c   \n",
       "...                                    ...   \n",
       "2139  db71b2fa-5be8-47c3-a5ae-41f5211edc5d   \n",
       "2140  7ca2cfe6-94cc-4fc9-9e23-8409fdb875bf   \n",
       "2141  33b0b3e6-38db-42f4-bcb9-aee327492997   \n",
       "2142  e3e58d0d-54af-477a-abf2-8c1d11137114   \n",
       "2143  f6c8b5ed-851e-44ae-90d3-b39cbd112305   \n",
       "\n",
       "                                      filename  Target  finding  \n",
       "0     c769a794-11cc-4b06-a97b-1acdca816ae1.png     NaN        0  \n",
       "1     9f434de4-5c5b-48c2-828f-8f04a7c51739.png     NaN        0  \n",
       "2     a23af76a-d365-4529-837b-0e8ed2ab5569.png     NaN        0  \n",
       "3     0053ee32-1e03-4dc2-a103-f46ad0448787.png     NaN        0  \n",
       "4     f07012f0-57e8-4d02-951f-087ae7c8ce5c.png     NaN        0  \n",
       "...                                        ...     ...      ...  \n",
       "2139  db71b2fa-5be8-47c3-a5ae-41f5211edc5d.png     NaN        0  \n",
       "2140  7ca2cfe6-94cc-4fc9-9e23-8409fdb875bf.png     NaN        0  \n",
       "2141  33b0b3e6-38db-42f4-bcb9-aee327492997.png     NaN        0  \n",
       "2142  e3e58d0d-54af-477a-abf2-8c1d11137114.png     NaN        0  \n",
       "2143  f6c8b5ed-851e-44ae-90d3-b39cbd112305.png     NaN        0  \n",
       "\n",
       "[2144 rows x 4 columns]"
      ],
      "text/html": "<div>\n<style scoped>\n    .dataframe tbody tr th:only-of-type {\n        vertical-align: middle;\n    }\n\n    .dataframe tbody tr th {\n        vertical-align: top;\n    }\n\n    .dataframe thead th {\n        text-align: right;\n    }\n</style>\n<table border=\"1\" class=\"dataframe\">\n  <thead>\n    <tr style=\"text-align: right;\">\n      <th></th>\n      <th>patientID</th>\n      <th>filename</th>\n      <th>Target</th>\n      <th>finding</th>\n    </tr>\n  </thead>\n  <tbody>\n    <tr>\n      <th>0</th>\n      <td>c769a794-11cc-4b06-a97b-1acdca816ae1</td>\n      <td>c769a794-11cc-4b06-a97b-1acdca816ae1.png</td>\n      <td>NaN</td>\n      <td>0</td>\n    </tr>\n    <tr>\n      <th>1</th>\n      <td>9f434de4-5c5b-48c2-828f-8f04a7c51739</td>\n      <td>9f434de4-5c5b-48c2-828f-8f04a7c51739.png</td>\n      <td>NaN</td>\n      <td>0</td>\n    </tr>\n    <tr>\n      <th>2</th>\n      <td>a23af76a-d365-4529-837b-0e8ed2ab5569</td>\n      <td>a23af76a-d365-4529-837b-0e8ed2ab5569.png</td>\n      <td>NaN</td>\n      <td>0</td>\n    </tr>\n    <tr>\n      <th>3</th>\n      <td>0053ee32-1e03-4dc2-a103-f46ad0448787</td>\n      <td>0053ee32-1e03-4dc2-a103-f46ad0448787.png</td>\n      <td>NaN</td>\n      <td>0</td>\n    </tr>\n    <tr>\n      <th>4</th>\n      <td>f07012f0-57e8-4d02-951f-087ae7c8ce5c</td>\n      <td>f07012f0-57e8-4d02-951f-087ae7c8ce5c.png</td>\n      <td>NaN</td>\n      <td>0</td>\n    </tr>\n    <tr>\n      <th>...</th>\n      <td>...</td>\n      <td>...</td>\n      <td>...</td>\n      <td>...</td>\n    </tr>\n    <tr>\n      <th>2139</th>\n      <td>db71b2fa-5be8-47c3-a5ae-41f5211edc5d</td>\n      <td>db71b2fa-5be8-47c3-a5ae-41f5211edc5d.png</td>\n      <td>NaN</td>\n      <td>0</td>\n    </tr>\n    <tr>\n      <th>2140</th>\n      <td>7ca2cfe6-94cc-4fc9-9e23-8409fdb875bf</td>\n      <td>7ca2cfe6-94cc-4fc9-9e23-8409fdb875bf.png</td>\n      <td>NaN</td>\n      <td>0</td>\n    </tr>\n    <tr>\n      <th>2141</th>\n      <td>33b0b3e6-38db-42f4-bcb9-aee327492997</td>\n      <td>33b0b3e6-38db-42f4-bcb9-aee327492997.png</td>\n      <td>NaN</td>\n      <td>0</td>\n    </tr>\n    <tr>\n      <th>2142</th>\n      <td>e3e58d0d-54af-477a-abf2-8c1d11137114</td>\n      <td>e3e58d0d-54af-477a-abf2-8c1d11137114.png</td>\n      <td>NaN</td>\n      <td>0</td>\n    </tr>\n    <tr>\n      <th>2143</th>\n      <td>f6c8b5ed-851e-44ae-90d3-b39cbd112305</td>\n      <td>f6c8b5ed-851e-44ae-90d3-b39cbd112305.png</td>\n      <td>NaN</td>\n      <td>0</td>\n    </tr>\n  </tbody>\n</table>\n<p>2144 rows × 4 columns</p>\n</div>"
     },
     "metadata": {},
     "execution_count": 25
    }
   ],
   "source": [
    "left1 = pd.read_csv('/Users/linkeke/Desktop/Dataprocess/data.csv')\n",
    "left1"
   ]
  },
  {
   "cell_type": "code",
   "execution_count": 41,
   "metadata": {},
   "outputs": [
    {
     "output_type": "execute_result",
     "data": {
      "text/plain": [
       "Empty DataFrame\n",
       "Columns: [patientID, filename, Target, finding, x, y, width, height]\n",
       "Index: []"
      ],
      "text/html": "<div>\n<style scoped>\n    .dataframe tbody tr th:only-of-type {\n        vertical-align: middle;\n    }\n\n    .dataframe tbody tr th {\n        vertical-align: top;\n    }\n\n    .dataframe thead th {\n        text-align: right;\n    }\n</style>\n<table border=\"1\" class=\"dataframe\">\n  <thead>\n    <tr style=\"text-align: right;\">\n      <th></th>\n      <th>patientID</th>\n      <th>filename</th>\n      <th>Target</th>\n      <th>finding</th>\n      <th>x</th>\n      <th>y</th>\n      <th>width</th>\n      <th>height</th>\n    </tr>\n  </thead>\n  <tbody>\n  </tbody>\n</table>\n</div>"
     },
     "metadata": {},
     "execution_count": 41
    }
   ],
   "source": [
    "pd.merge(left1, right1)"
   ]
  },
  {
   "cell_type": "code",
   "execution_count": 40,
   "metadata": {},
   "outputs": [
    {
     "output_type": "execute_result",
     "data": {
      "text/plain": [
       "0        0004cfab-14fd-4e49-80ba-63a80b6bddd6\n",
       "1        00313ee0-9eaa-42f4-b0ab-c148ed3241cd\n",
       "2        00322d4d-1c29-4943-afc9-b6754be640eb\n",
       "3        003d8fa0-6bf1-40ed-b54c-ac657f8495c5\n",
       "4        00436515-870c-4b36-a041-de91049b9ab4\n",
       "                         ...                 \n",
       "30222    c1ec14ff-f6d7-4b38-b0cb-fe07041cbdc8\n",
       "30223    c1edf42b-5958-47ff-a1e7-4f23d99583ba\n",
       "30224    c1f6b555-2eb1-4231-98f6-50a963976431\n",
       "30225    c1f7889a-9ea9-4acb-b64c-b737c929599a\n",
       "30226    c1f7889a-9ea9-4acb-b64c-b737c929599a\n",
       "Name: patientID, Length: 30227, dtype: object"
      ]
     },
     "metadata": {},
     "execution_count": 40
    }
   ],
   "source": [
    "right1[\"patientID\"]"
   ]
  },
  {
   "cell_type": "code",
   "execution_count": 45,
   "metadata": {},
   "outputs": [],
   "source": [
    "total_df = pd.merge(left1, right1, how='inner', on=['patientID'])"
   ]
  },
  {
   "cell_type": "code",
   "execution_count": 94,
   "metadata": {},
   "outputs": [
    {
     "output_type": "execute_result",
     "data": {
      "text/plain": [
       "                                 patientID  \\\n",
       "0     c769a794-11cc-4b06-a97b-1acdca816ae1   \n",
       "1     9f434de4-5c5b-48c2-828f-8f04a7c51739   \n",
       "2     a23af76a-d365-4529-837b-0e8ed2ab5569   \n",
       "3     0053ee32-1e03-4dc2-a103-f46ad0448787   \n",
       "4     f07012f0-57e8-4d02-951f-087ae7c8ce5c   \n",
       "...                                    ...   \n",
       "2402  db71b2fa-5be8-47c3-a5ae-41f5211edc5d   \n",
       "2403  7ca2cfe6-94cc-4fc9-9e23-8409fdb875bf   \n",
       "2404  33b0b3e6-38db-42f4-bcb9-aee327492997   \n",
       "2405  e3e58d0d-54af-477a-abf2-8c1d11137114   \n",
       "2406  f6c8b5ed-851e-44ae-90d3-b39cbd112305   \n",
       "\n",
       "                                      filename  finding  Target  \n",
       "0     c769a794-11cc-4b06-a97b-1acdca816ae1.png        0       0  \n",
       "1     9f434de4-5c5b-48c2-828f-8f04a7c51739.png        0       0  \n",
       "2     a23af76a-d365-4529-837b-0e8ed2ab5569.png        0       0  \n",
       "3     0053ee32-1e03-4dc2-a103-f46ad0448787.png        0       0  \n",
       "4     f07012f0-57e8-4d02-951f-087ae7c8ce5c.png        0       0  \n",
       "...                                        ...      ...     ...  \n",
       "2402  db71b2fa-5be8-47c3-a5ae-41f5211edc5d.png        0       0  \n",
       "2403  7ca2cfe6-94cc-4fc9-9e23-8409fdb875bf.png        0       0  \n",
       "2404  33b0b3e6-38db-42f4-bcb9-aee327492997.png        0       0  \n",
       "2405  e3e58d0d-54af-477a-abf2-8c1d11137114.png        0       0  \n",
       "2406  f6c8b5ed-851e-44ae-90d3-b39cbd112305.png        0       0  \n",
       "\n",
       "[2407 rows x 4 columns]"
      ],
      "text/html": "<div>\n<style scoped>\n    .dataframe tbody tr th:only-of-type {\n        vertical-align: middle;\n    }\n\n    .dataframe tbody tr th {\n        vertical-align: top;\n    }\n\n    .dataframe thead th {\n        text-align: right;\n    }\n</style>\n<table border=\"1\" class=\"dataframe\">\n  <thead>\n    <tr style=\"text-align: right;\">\n      <th></th>\n      <th>patientID</th>\n      <th>filename</th>\n      <th>finding</th>\n      <th>Target</th>\n    </tr>\n  </thead>\n  <tbody>\n    <tr>\n      <th>0</th>\n      <td>c769a794-11cc-4b06-a97b-1acdca816ae1</td>\n      <td>c769a794-11cc-4b06-a97b-1acdca816ae1.png</td>\n      <td>0</td>\n      <td>0</td>\n    </tr>\n    <tr>\n      <th>1</th>\n      <td>9f434de4-5c5b-48c2-828f-8f04a7c51739</td>\n      <td>9f434de4-5c5b-48c2-828f-8f04a7c51739.png</td>\n      <td>0</td>\n      <td>0</td>\n    </tr>\n    <tr>\n      <th>2</th>\n      <td>a23af76a-d365-4529-837b-0e8ed2ab5569</td>\n      <td>a23af76a-d365-4529-837b-0e8ed2ab5569.png</td>\n      <td>0</td>\n      <td>0</td>\n    </tr>\n    <tr>\n      <th>3</th>\n      <td>0053ee32-1e03-4dc2-a103-f46ad0448787</td>\n      <td>0053ee32-1e03-4dc2-a103-f46ad0448787.png</td>\n      <td>0</td>\n      <td>0</td>\n    </tr>\n    <tr>\n      <th>4</th>\n      <td>f07012f0-57e8-4d02-951f-087ae7c8ce5c</td>\n      <td>f07012f0-57e8-4d02-951f-087ae7c8ce5c.png</td>\n      <td>0</td>\n      <td>0</td>\n    </tr>\n    <tr>\n      <th>...</th>\n      <td>...</td>\n      <td>...</td>\n      <td>...</td>\n      <td>...</td>\n    </tr>\n    <tr>\n      <th>2402</th>\n      <td>db71b2fa-5be8-47c3-a5ae-41f5211edc5d</td>\n      <td>db71b2fa-5be8-47c3-a5ae-41f5211edc5d.png</td>\n      <td>0</td>\n      <td>0</td>\n    </tr>\n    <tr>\n      <th>2403</th>\n      <td>7ca2cfe6-94cc-4fc9-9e23-8409fdb875bf</td>\n      <td>7ca2cfe6-94cc-4fc9-9e23-8409fdb875bf.png</td>\n      <td>0</td>\n      <td>0</td>\n    </tr>\n    <tr>\n      <th>2404</th>\n      <td>33b0b3e6-38db-42f4-bcb9-aee327492997</td>\n      <td>33b0b3e6-38db-42f4-bcb9-aee327492997.png</td>\n      <td>0</td>\n      <td>0</td>\n    </tr>\n    <tr>\n      <th>2405</th>\n      <td>e3e58d0d-54af-477a-abf2-8c1d11137114</td>\n      <td>e3e58d0d-54af-477a-abf2-8c1d11137114.png</td>\n      <td>0</td>\n      <td>0</td>\n    </tr>\n    <tr>\n      <th>2406</th>\n      <td>f6c8b5ed-851e-44ae-90d3-b39cbd112305</td>\n      <td>f6c8b5ed-851e-44ae-90d3-b39cbd112305.png</td>\n      <td>0</td>\n      <td>0</td>\n    </tr>\n  </tbody>\n</table>\n<p>2407 rows × 4 columns</p>\n</div>"
     },
     "metadata": {},
     "execution_count": 94
    }
   ],
   "source": [
    "total_df"
   ]
  },
  {
   "cell_type": "code",
   "execution_count": 49,
   "metadata": {},
   "outputs": [],
   "source": [
    "total_df = total_df.drop(columns=['Target_x','x','y','width','height'])"
   ]
  },
  {
   "cell_type": "code",
   "execution_count": 51,
   "metadata": {},
   "outputs": [],
   "source": [
    "total_df = total_df.rename(columns={'Target_y':'Target'})"
   ]
  },
  {
   "cell_type": "code",
   "execution_count": 69,
   "metadata": {},
   "outputs": [],
   "source": [
    "total_df.to_csv(\"Noncovid.csv\")"
   ]
  },
  {
   "cell_type": "code",
   "execution_count": 53,
   "metadata": {},
   "outputs": [],
   "source": [
    "meta = pd.read_csv('/Users/linkeke/Documents/GitHub/covid-chestxray-dataset/metadata.csv')"
   ]
  },
  {
   "cell_type": "code",
   "execution_count": 60,
   "metadata": {},
   "outputs": [
    {
     "output_type": "execute_result",
     "data": {
      "text/plain": [
       "    patientid  offset sex   age                   finding RT_PCR_positive  \\\n",
       "0           2     0.0   M  65.0  Pneumonia/Viral/COVID-19               Y   \n",
       "1           2     3.0   M  65.0  Pneumonia/Viral/COVID-19               Y   \n",
       "2           2     5.0   M  65.0  Pneumonia/Viral/COVID-19               Y   \n",
       "3           2     6.0   M  65.0  Pneumonia/Viral/COVID-19               Y   \n",
       "4           4     0.0   F  52.0  Pneumonia/Viral/COVID-19               Y   \n",
       "..        ...     ...  ..   ...                       ...             ...   \n",
       "945       479     0.0   F  40.0                 Pneumonia             NaN   \n",
       "946       479    70.0   F  40.0                 Pneumonia             NaN   \n",
       "947       480     NaN   M  26.0                 Pneumonia             NaN   \n",
       "948       481     NaN   M  50.0                 Pneumonia             NaN   \n",
       "949       481     NaN   M  50.0                 Pneumonia             NaN   \n",
       "\n",
       "    survival intubated intubation_present went_icu  ...              date  \\\n",
       "0          Y         N                  N        N  ...  January 22, 2020   \n",
       "1          Y         N                  N        N  ...  January 25, 2020   \n",
       "2          Y         N                  N        N  ...  January 27, 2020   \n",
       "3          Y         N                  N        N  ...  January 28, 2020   \n",
       "4        NaN         N                  N        N  ...  January 25, 2020   \n",
       "..       ...       ...                ...      ...  ...               ...   \n",
       "945      NaN       NaN                NaN      NaN  ...               NaN   \n",
       "946      NaN       NaN                NaN      NaN  ...               NaN   \n",
       "947      NaN       NaN                NaN      NaN  ...               NaN   \n",
       "948      NaN       NaN                NaN      NaN  ...               NaN   \n",
       "949      NaN       NaN                NaN      NaN  ...               NaN   \n",
       "\n",
       "                                              location  folder  \\\n",
       "0          Cho Ray Hospital, Ho Chi Minh City, Vietnam  images   \n",
       "1          Cho Ray Hospital, Ho Chi Minh City, Vietnam  images   \n",
       "2          Cho Ray Hospital, Ho Chi Minh City, Vietnam  images   \n",
       "3          Cho Ray Hospital, Ho Chi Minh City, Vietnam  images   \n",
       "4    Changhua Christian Hospital, Changhua City, Ta...  images   \n",
       "..                                                 ...     ...   \n",
       "945                                     United Kingdom  images   \n",
       "946                                     United Kingdom  images   \n",
       "947                                                NaN  images   \n",
       "948                                                NaN  images   \n",
       "949                                                NaN  images   \n",
       "\n",
       "                                              filename                   doi  \\\n",
       "0    auntminnie-a-2020_01_28_23_51_6665_2020_01_28_...  10.1056/nejmc2001272   \n",
       "1    auntminnie-b-2020_01_28_23_51_6665_2020_01_28_...  10.1056/nejmc2001272   \n",
       "2    auntminnie-c-2020_01_28_23_51_6665_2020_01_28_...  10.1056/nejmc2001272   \n",
       "3    auntminnie-d-2020_01_28_23_51_6665_2020_01_28_...  10.1056/nejmc2001272   \n",
       "4                                nejmc2001573_f1a.jpeg  10.1056/NEJMc2001573   \n",
       "..                                                 ...                   ...   \n",
       "945        072ecaf8c60a81980abb57150a8016_jumbo-9.jpeg                   NaN   \n",
       "946        ff33c406392b968d483174c97eb857_jumbo-9.jpeg                   NaN   \n",
       "947                                     000001-266.jpg                   NaN   \n",
       "948                                     000001-272.jpg                   NaN   \n",
       "949                                     000002-268.jpg                   NaN   \n",
       "\n",
       "                                                   url          license  \\\n",
       "0    https://www.nejm.org/doi/full/10.1056/NEJMc200...              NaN   \n",
       "1    https://www.nejm.org/doi/full/10.1056/NEJMc200...              NaN   \n",
       "2    https://www.nejm.org/doi/full/10.1056/NEJMc200...              NaN   \n",
       "3    https://www.nejm.org/doi/full/10.1056/NEJMc200...              NaN   \n",
       "4    https://www.nejm.org/doi/full/10.1056/NEJMc200...              NaN   \n",
       "..                                                 ...              ...   \n",
       "945  https://radiopaedia.org/cases/multifocal-round...      CC BY-NC-SA   \n",
       "946  https://radiopaedia.org/cases/multifocal-round...      CC BY-NC-SA   \n",
       "947                   https://www.eurorad.org/case/947  CC BY-NC-SA 4.0   \n",
       "948                   https://www.eurorad.org/case/934  CC BY-NC-SA 4.0   \n",
       "949                   https://www.eurorad.org/case/934  CC BY-NC-SA 4.0   \n",
       "\n",
       "                                        clinical_notes  \\\n",
       "0    On January 22, 2020, a 65-year-old man with a ...   \n",
       "1    On January 22, 2020, a 65-year-old man with a ...   \n",
       "2    On January 22, 2020, a 65-year-old man with a ...   \n",
       "3    On January 22, 2020, a 65-year-old man with a ...   \n",
       "4     diffuse infiltrates in the bilateral lower lungs   \n",
       "..                                                 ...   \n",
       "945  Asthmatic. Shortness of breath and wheeze. Rou...   \n",
       "946  Asthmatic. Shortness of breath and wheeze. The...   \n",
       "947  fire-eater accidentally ingested a paraffin mi...   \n",
       "948  The patient, a heavy smoker, was referred to t...   \n",
       "949  The patient, a heavy smoker, was referred to t...   \n",
       "\n",
       "                                           other_notes Unnamed: 29  \n",
       "0                                                  NaN         NaN  \n",
       "1                                                  NaN         NaN  \n",
       "2                                                  NaN         NaN  \n",
       "3                                                  NaN         NaN  \n",
       "4                                                  NaN         NaN  \n",
       "..                                                 ...         ...  \n",
       "945  Case courtesy of Dr Ian Bickle, Radiopaedia.or...         NaN  \n",
       "946  Case courtesy of Dr Ian Bickle, Radiopaedia.or...         NaN  \n",
       "947                                                NaN         NaN  \n",
       "948                                                NaN         NaN  \n",
       "949                                                NaN         NaN  \n",
       "\n",
       "[950 rows x 30 columns]"
      ],
      "text/html": "<div>\n<style scoped>\n    .dataframe tbody tr th:only-of-type {\n        vertical-align: middle;\n    }\n\n    .dataframe tbody tr th {\n        vertical-align: top;\n    }\n\n    .dataframe thead th {\n        text-align: right;\n    }\n</style>\n<table border=\"1\" class=\"dataframe\">\n  <thead>\n    <tr style=\"text-align: right;\">\n      <th></th>\n      <th>patientid</th>\n      <th>offset</th>\n      <th>sex</th>\n      <th>age</th>\n      <th>finding</th>\n      <th>RT_PCR_positive</th>\n      <th>survival</th>\n      <th>intubated</th>\n      <th>intubation_present</th>\n      <th>went_icu</th>\n      <th>...</th>\n      <th>date</th>\n      <th>location</th>\n      <th>folder</th>\n      <th>filename</th>\n      <th>doi</th>\n      <th>url</th>\n      <th>license</th>\n      <th>clinical_notes</th>\n      <th>other_notes</th>\n      <th>Unnamed: 29</th>\n    </tr>\n  </thead>\n  <tbody>\n    <tr>\n      <th>0</th>\n      <td>2</td>\n      <td>0.0</td>\n      <td>M</td>\n      <td>65.0</td>\n      <td>Pneumonia/Viral/COVID-19</td>\n      <td>Y</td>\n      <td>Y</td>\n      <td>N</td>\n      <td>N</td>\n      <td>N</td>\n      <td>...</td>\n      <td>January 22, 2020</td>\n      <td>Cho Ray Hospital, Ho Chi Minh City, Vietnam</td>\n      <td>images</td>\n      <td>auntminnie-a-2020_01_28_23_51_6665_2020_01_28_...</td>\n      <td>10.1056/nejmc2001272</td>\n      <td>https://www.nejm.org/doi/full/10.1056/NEJMc200...</td>\n      <td>NaN</td>\n      <td>On January 22, 2020, a 65-year-old man with a ...</td>\n      <td>NaN</td>\n      <td>NaN</td>\n    </tr>\n    <tr>\n      <th>1</th>\n      <td>2</td>\n      <td>3.0</td>\n      <td>M</td>\n      <td>65.0</td>\n      <td>Pneumonia/Viral/COVID-19</td>\n      <td>Y</td>\n      <td>Y</td>\n      <td>N</td>\n      <td>N</td>\n      <td>N</td>\n      <td>...</td>\n      <td>January 25, 2020</td>\n      <td>Cho Ray Hospital, Ho Chi Minh City, Vietnam</td>\n      <td>images</td>\n      <td>auntminnie-b-2020_01_28_23_51_6665_2020_01_28_...</td>\n      <td>10.1056/nejmc2001272</td>\n      <td>https://www.nejm.org/doi/full/10.1056/NEJMc200...</td>\n      <td>NaN</td>\n      <td>On January 22, 2020, a 65-year-old man with a ...</td>\n      <td>NaN</td>\n      <td>NaN</td>\n    </tr>\n    <tr>\n      <th>2</th>\n      <td>2</td>\n      <td>5.0</td>\n      <td>M</td>\n      <td>65.0</td>\n      <td>Pneumonia/Viral/COVID-19</td>\n      <td>Y</td>\n      <td>Y</td>\n      <td>N</td>\n      <td>N</td>\n      <td>N</td>\n      <td>...</td>\n      <td>January 27, 2020</td>\n      <td>Cho Ray Hospital, Ho Chi Minh City, Vietnam</td>\n      <td>images</td>\n      <td>auntminnie-c-2020_01_28_23_51_6665_2020_01_28_...</td>\n      <td>10.1056/nejmc2001272</td>\n      <td>https://www.nejm.org/doi/full/10.1056/NEJMc200...</td>\n      <td>NaN</td>\n      <td>On January 22, 2020, a 65-year-old man with a ...</td>\n      <td>NaN</td>\n      <td>NaN</td>\n    </tr>\n    <tr>\n      <th>3</th>\n      <td>2</td>\n      <td>6.0</td>\n      <td>M</td>\n      <td>65.0</td>\n      <td>Pneumonia/Viral/COVID-19</td>\n      <td>Y</td>\n      <td>Y</td>\n      <td>N</td>\n      <td>N</td>\n      <td>N</td>\n      <td>...</td>\n      <td>January 28, 2020</td>\n      <td>Cho Ray Hospital, Ho Chi Minh City, Vietnam</td>\n      <td>images</td>\n      <td>auntminnie-d-2020_01_28_23_51_6665_2020_01_28_...</td>\n      <td>10.1056/nejmc2001272</td>\n      <td>https://www.nejm.org/doi/full/10.1056/NEJMc200...</td>\n      <td>NaN</td>\n      <td>On January 22, 2020, a 65-year-old man with a ...</td>\n      <td>NaN</td>\n      <td>NaN</td>\n    </tr>\n    <tr>\n      <th>4</th>\n      <td>4</td>\n      <td>0.0</td>\n      <td>F</td>\n      <td>52.0</td>\n      <td>Pneumonia/Viral/COVID-19</td>\n      <td>Y</td>\n      <td>NaN</td>\n      <td>N</td>\n      <td>N</td>\n      <td>N</td>\n      <td>...</td>\n      <td>January 25, 2020</td>\n      <td>Changhua Christian Hospital, Changhua City, Ta...</td>\n      <td>images</td>\n      <td>nejmc2001573_f1a.jpeg</td>\n      <td>10.1056/NEJMc2001573</td>\n      <td>https://www.nejm.org/doi/full/10.1056/NEJMc200...</td>\n      <td>NaN</td>\n      <td>diffuse infiltrates in the bilateral lower lungs</td>\n      <td>NaN</td>\n      <td>NaN</td>\n    </tr>\n    <tr>\n      <th>...</th>\n      <td>...</td>\n      <td>...</td>\n      <td>...</td>\n      <td>...</td>\n      <td>...</td>\n      <td>...</td>\n      <td>...</td>\n      <td>...</td>\n      <td>...</td>\n      <td>...</td>\n      <td>...</td>\n      <td>...</td>\n      <td>...</td>\n      <td>...</td>\n      <td>...</td>\n      <td>...</td>\n      <td>...</td>\n      <td>...</td>\n      <td>...</td>\n      <td>...</td>\n      <td>...</td>\n    </tr>\n    <tr>\n      <th>945</th>\n      <td>479</td>\n      <td>0.0</td>\n      <td>F</td>\n      <td>40.0</td>\n      <td>Pneumonia</td>\n      <td>NaN</td>\n      <td>NaN</td>\n      <td>NaN</td>\n      <td>NaN</td>\n      <td>NaN</td>\n      <td>...</td>\n      <td>NaN</td>\n      <td>United Kingdom</td>\n      <td>images</td>\n      <td>072ecaf8c60a81980abb57150a8016_jumbo-9.jpeg</td>\n      <td>NaN</td>\n      <td>https://radiopaedia.org/cases/multifocal-round...</td>\n      <td>CC BY-NC-SA</td>\n      <td>Asthmatic. Shortness of breath and wheeze. Rou...</td>\n      <td>Case courtesy of Dr Ian Bickle, Radiopaedia.or...</td>\n      <td>NaN</td>\n    </tr>\n    <tr>\n      <th>946</th>\n      <td>479</td>\n      <td>70.0</td>\n      <td>F</td>\n      <td>40.0</td>\n      <td>Pneumonia</td>\n      <td>NaN</td>\n      <td>NaN</td>\n      <td>NaN</td>\n      <td>NaN</td>\n      <td>NaN</td>\n      <td>...</td>\n      <td>NaN</td>\n      <td>United Kingdom</td>\n      <td>images</td>\n      <td>ff33c406392b968d483174c97eb857_jumbo-9.jpeg</td>\n      <td>NaN</td>\n      <td>https://radiopaedia.org/cases/multifocal-round...</td>\n      <td>CC BY-NC-SA</td>\n      <td>Asthmatic. Shortness of breath and wheeze. The...</td>\n      <td>Case courtesy of Dr Ian Bickle, Radiopaedia.or...</td>\n      <td>NaN</td>\n    </tr>\n    <tr>\n      <th>947</th>\n      <td>480</td>\n      <td>NaN</td>\n      <td>M</td>\n      <td>26.0</td>\n      <td>Pneumonia</td>\n      <td>NaN</td>\n      <td>NaN</td>\n      <td>NaN</td>\n      <td>NaN</td>\n      <td>NaN</td>\n      <td>...</td>\n      <td>NaN</td>\n      <td>NaN</td>\n      <td>images</td>\n      <td>000001-266.jpg</td>\n      <td>NaN</td>\n      <td>https://www.eurorad.org/case/947</td>\n      <td>CC BY-NC-SA 4.0</td>\n      <td>fire-eater accidentally ingested a paraffin mi...</td>\n      <td>NaN</td>\n      <td>NaN</td>\n    </tr>\n    <tr>\n      <th>948</th>\n      <td>481</td>\n      <td>NaN</td>\n      <td>M</td>\n      <td>50.0</td>\n      <td>Pneumonia</td>\n      <td>NaN</td>\n      <td>NaN</td>\n      <td>NaN</td>\n      <td>NaN</td>\n      <td>NaN</td>\n      <td>...</td>\n      <td>NaN</td>\n      <td>NaN</td>\n      <td>images</td>\n      <td>000001-272.jpg</td>\n      <td>NaN</td>\n      <td>https://www.eurorad.org/case/934</td>\n      <td>CC BY-NC-SA 4.0</td>\n      <td>The patient, a heavy smoker, was referred to t...</td>\n      <td>NaN</td>\n      <td>NaN</td>\n    </tr>\n    <tr>\n      <th>949</th>\n      <td>481</td>\n      <td>NaN</td>\n      <td>M</td>\n      <td>50.0</td>\n      <td>Pneumonia</td>\n      <td>NaN</td>\n      <td>NaN</td>\n      <td>NaN</td>\n      <td>NaN</td>\n      <td>NaN</td>\n      <td>...</td>\n      <td>NaN</td>\n      <td>NaN</td>\n      <td>images</td>\n      <td>000002-268.jpg</td>\n      <td>NaN</td>\n      <td>https://www.eurorad.org/case/934</td>\n      <td>CC BY-NC-SA 4.0</td>\n      <td>The patient, a heavy smoker, was referred to t...</td>\n      <td>NaN</td>\n      <td>NaN</td>\n    </tr>\n  </tbody>\n</table>\n<p>950 rows × 30 columns</p>\n</div>"
     },
     "metadata": {},
     "execution_count": 60
    }
   ],
   "source": [
    "meta"
   ]
  },
  {
   "cell_type": "code",
   "execution_count": 82,
   "metadata": {},
   "outputs": [
    {
     "output_type": "execute_result",
     "data": {
      "text/plain": [
       "                                 patientID  \\\n",
       "0     c769a794-11cc-4b06-a97b-1acdca816ae1   \n",
       "1     9f434de4-5c5b-48c2-828f-8f04a7c51739   \n",
       "2     a23af76a-d365-4529-837b-0e8ed2ab5569   \n",
       "3     0053ee32-1e03-4dc2-a103-f46ad0448787   \n",
       "4     f07012f0-57e8-4d02-951f-087ae7c8ce5c   \n",
       "...                                    ...   \n",
       "2402  db71b2fa-5be8-47c3-a5ae-41f5211edc5d   \n",
       "2403  7ca2cfe6-94cc-4fc9-9e23-8409fdb875bf   \n",
       "2404  33b0b3e6-38db-42f4-bcb9-aee327492997   \n",
       "2405  e3e58d0d-54af-477a-abf2-8c1d11137114   \n",
       "2406  f6c8b5ed-851e-44ae-90d3-b39cbd112305   \n",
       "\n",
       "                                      filename  finding  Target  \n",
       "0     c769a794-11cc-4b06-a97b-1acdca816ae1.png        0       0  \n",
       "1     9f434de4-5c5b-48c2-828f-8f04a7c51739.png        0       0  \n",
       "2     a23af76a-d365-4529-837b-0e8ed2ab5569.png        0       0  \n",
       "3     0053ee32-1e03-4dc2-a103-f46ad0448787.png        0       0  \n",
       "4     f07012f0-57e8-4d02-951f-087ae7c8ce5c.png        0       0  \n",
       "...                                        ...      ...     ...  \n",
       "2402  db71b2fa-5be8-47c3-a5ae-41f5211edc5d.png        0       0  \n",
       "2403  7ca2cfe6-94cc-4fc9-9e23-8409fdb875bf.png        0       0  \n",
       "2404  33b0b3e6-38db-42f4-bcb9-aee327492997.png        0       0  \n",
       "2405  e3e58d0d-54af-477a-abf2-8c1d11137114.png        0       0  \n",
       "2406  f6c8b5ed-851e-44ae-90d3-b39cbd112305.png        0       0  \n",
       "\n",
       "[2407 rows x 4 columns]"
      ],
      "text/html": "<div>\n<style scoped>\n    .dataframe tbody tr th:only-of-type {\n        vertical-align: middle;\n    }\n\n    .dataframe tbody tr th {\n        vertical-align: top;\n    }\n\n    .dataframe thead th {\n        text-align: right;\n    }\n</style>\n<table border=\"1\" class=\"dataframe\">\n  <thead>\n    <tr style=\"text-align: right;\">\n      <th></th>\n      <th>patientID</th>\n      <th>filename</th>\n      <th>finding</th>\n      <th>Target</th>\n    </tr>\n  </thead>\n  <tbody>\n    <tr>\n      <th>0</th>\n      <td>c769a794-11cc-4b06-a97b-1acdca816ae1</td>\n      <td>c769a794-11cc-4b06-a97b-1acdca816ae1.png</td>\n      <td>0</td>\n      <td>0</td>\n    </tr>\n    <tr>\n      <th>1</th>\n      <td>9f434de4-5c5b-48c2-828f-8f04a7c51739</td>\n      <td>9f434de4-5c5b-48c2-828f-8f04a7c51739.png</td>\n      <td>0</td>\n      <td>0</td>\n    </tr>\n    <tr>\n      <th>2</th>\n      <td>a23af76a-d365-4529-837b-0e8ed2ab5569</td>\n      <td>a23af76a-d365-4529-837b-0e8ed2ab5569.png</td>\n      <td>0</td>\n      <td>0</td>\n    </tr>\n    <tr>\n      <th>3</th>\n      <td>0053ee32-1e03-4dc2-a103-f46ad0448787</td>\n      <td>0053ee32-1e03-4dc2-a103-f46ad0448787.png</td>\n      <td>0</td>\n      <td>0</td>\n    </tr>\n    <tr>\n      <th>4</th>\n      <td>f07012f0-57e8-4d02-951f-087ae7c8ce5c</td>\n      <td>f07012f0-57e8-4d02-951f-087ae7c8ce5c.png</td>\n      <td>0</td>\n      <td>0</td>\n    </tr>\n    <tr>\n      <th>...</th>\n      <td>...</td>\n      <td>...</td>\n      <td>...</td>\n      <td>...</td>\n    </tr>\n    <tr>\n      <th>2402</th>\n      <td>db71b2fa-5be8-47c3-a5ae-41f5211edc5d</td>\n      <td>db71b2fa-5be8-47c3-a5ae-41f5211edc5d.png</td>\n      <td>0</td>\n      <td>0</td>\n    </tr>\n    <tr>\n      <th>2403</th>\n      <td>7ca2cfe6-94cc-4fc9-9e23-8409fdb875bf</td>\n      <td>7ca2cfe6-94cc-4fc9-9e23-8409fdb875bf.png</td>\n      <td>0</td>\n      <td>0</td>\n    </tr>\n    <tr>\n      <th>2404</th>\n      <td>33b0b3e6-38db-42f4-bcb9-aee327492997</td>\n      <td>33b0b3e6-38db-42f4-bcb9-aee327492997.png</td>\n      <td>0</td>\n      <td>0</td>\n    </tr>\n    <tr>\n      <th>2405</th>\n      <td>e3e58d0d-54af-477a-abf2-8c1d11137114</td>\n      <td>e3e58d0d-54af-477a-abf2-8c1d11137114.png</td>\n      <td>0</td>\n      <td>0</td>\n    </tr>\n    <tr>\n      <th>2406</th>\n      <td>f6c8b5ed-851e-44ae-90d3-b39cbd112305</td>\n      <td>f6c8b5ed-851e-44ae-90d3-b39cbd112305.png</td>\n      <td>0</td>\n      <td>0</td>\n    </tr>\n  </tbody>\n</table>\n<p>2407 rows × 4 columns</p>\n</div>"
     },
     "metadata": {},
     "execution_count": 82
    }
   ],
   "source": [
    "total_df"
   ]
  },
  {
   "cell_type": "code",
   "execution_count": 85,
   "metadata": {
    "tags": []
   },
   "outputs": [
    {
     "output_type": "execute_result",
     "data": {
      "text/plain": [
       "    patientid                                           filename\n",
       "0           2  auntminnie-a-2020_01_28_23_51_6665_2020_01_28_...\n",
       "1           2  auntminnie-b-2020_01_28_23_51_6665_2020_01_28_...\n",
       "2           2  auntminnie-c-2020_01_28_23_51_6665_2020_01_28_...\n",
       "3           2  auntminnie-d-2020_01_28_23_51_6665_2020_01_28_...\n",
       "4           4                              nejmc2001573_f1a.jpeg\n",
       "..        ...                                                ...\n",
       "945       479        072ecaf8c60a81980abb57150a8016_jumbo-9.jpeg\n",
       "946       479        ff33c406392b968d483174c97eb857_jumbo-9.jpeg\n",
       "947       480                                     000001-266.jpg\n",
       "948       481                                     000001-272.jpg\n",
       "949       481                                     000002-268.jpg\n",
       "\n",
       "[950 rows x 2 columns]"
      ],
      "text/html": "<div>\n<style scoped>\n    .dataframe tbody tr th:only-of-type {\n        vertical-align: middle;\n    }\n\n    .dataframe tbody tr th {\n        vertical-align: top;\n    }\n\n    .dataframe thead th {\n        text-align: right;\n    }\n</style>\n<table border=\"1\" class=\"dataframe\">\n  <thead>\n    <tr style=\"text-align: right;\">\n      <th></th>\n      <th>patientid</th>\n      <th>filename</th>\n    </tr>\n  </thead>\n  <tbody>\n    <tr>\n      <th>0</th>\n      <td>2</td>\n      <td>auntminnie-a-2020_01_28_23_51_6665_2020_01_28_...</td>\n    </tr>\n    <tr>\n      <th>1</th>\n      <td>2</td>\n      <td>auntminnie-b-2020_01_28_23_51_6665_2020_01_28_...</td>\n    </tr>\n    <tr>\n      <th>2</th>\n      <td>2</td>\n      <td>auntminnie-c-2020_01_28_23_51_6665_2020_01_28_...</td>\n    </tr>\n    <tr>\n      <th>3</th>\n      <td>2</td>\n      <td>auntminnie-d-2020_01_28_23_51_6665_2020_01_28_...</td>\n    </tr>\n    <tr>\n      <th>4</th>\n      <td>4</td>\n      <td>nejmc2001573_f1a.jpeg</td>\n    </tr>\n    <tr>\n      <th>...</th>\n      <td>...</td>\n      <td>...</td>\n    </tr>\n    <tr>\n      <th>945</th>\n      <td>479</td>\n      <td>072ecaf8c60a81980abb57150a8016_jumbo-9.jpeg</td>\n    </tr>\n    <tr>\n      <th>946</th>\n      <td>479</td>\n      <td>ff33c406392b968d483174c97eb857_jumbo-9.jpeg</td>\n    </tr>\n    <tr>\n      <th>947</th>\n      <td>480</td>\n      <td>000001-266.jpg</td>\n    </tr>\n    <tr>\n      <th>948</th>\n      <td>481</td>\n      <td>000001-272.jpg</td>\n    </tr>\n    <tr>\n      <th>949</th>\n      <td>481</td>\n      <td>000002-268.jpg</td>\n    </tr>\n  </tbody>\n</table>\n<p>950 rows × 2 columns</p>\n</div>"
     },
     "metadata": {},
     "execution_count": 85
    }
   ],
   "source": [
    "NewMeta = meta[['patientid','filename']]\n",
    "NewMeta"
   ]
  },
  {
   "cell_type": "code",
   "execution_count": 87,
   "metadata": {},
   "outputs": [
    {
     "output_type": "stream",
     "name": "stderr",
     "text": [
      "<ipython-input-87-fbf9ba7c21e2>:1: SettingWithCopyWarning: \nA value is trying to be set on a copy of a slice from a DataFrame.\nTry using .loc[row_indexer,col_indexer] = value instead\n\nSee the caveats in the documentation: https://pandas.pydata.org/pandas-docs/stable/user_guide/indexing.html#returning-a-view-versus-a-copy\n  NewMeta['finding']=1\n"
     ]
    }
   ],
   "source": [
    "NewMeta['finding']=1"
   ]
  },
  {
   "cell_type": "code",
   "execution_count": 88,
   "metadata": {},
   "outputs": [
    {
     "output_type": "execute_result",
     "data": {
      "text/plain": [
       "    patientid                                           filename  finding\n",
       "0           2  auntminnie-a-2020_01_28_23_51_6665_2020_01_28_...        1\n",
       "1           2  auntminnie-b-2020_01_28_23_51_6665_2020_01_28_...        1\n",
       "2           2  auntminnie-c-2020_01_28_23_51_6665_2020_01_28_...        1\n",
       "3           2  auntminnie-d-2020_01_28_23_51_6665_2020_01_28_...        1\n",
       "4           4                              nejmc2001573_f1a.jpeg        1\n",
       "..        ...                                                ...      ...\n",
       "945       479        072ecaf8c60a81980abb57150a8016_jumbo-9.jpeg        1\n",
       "946       479        ff33c406392b968d483174c97eb857_jumbo-9.jpeg        1\n",
       "947       480                                     000001-266.jpg        1\n",
       "948       481                                     000001-272.jpg        1\n",
       "949       481                                     000002-268.jpg        1\n",
       "\n",
       "[950 rows x 3 columns]"
      ],
      "text/html": "<div>\n<style scoped>\n    .dataframe tbody tr th:only-of-type {\n        vertical-align: middle;\n    }\n\n    .dataframe tbody tr th {\n        vertical-align: top;\n    }\n\n    .dataframe thead th {\n        text-align: right;\n    }\n</style>\n<table border=\"1\" class=\"dataframe\">\n  <thead>\n    <tr style=\"text-align: right;\">\n      <th></th>\n      <th>patientid</th>\n      <th>filename</th>\n      <th>finding</th>\n    </tr>\n  </thead>\n  <tbody>\n    <tr>\n      <th>0</th>\n      <td>2</td>\n      <td>auntminnie-a-2020_01_28_23_51_6665_2020_01_28_...</td>\n      <td>1</td>\n    </tr>\n    <tr>\n      <th>1</th>\n      <td>2</td>\n      <td>auntminnie-b-2020_01_28_23_51_6665_2020_01_28_...</td>\n      <td>1</td>\n    </tr>\n    <tr>\n      <th>2</th>\n      <td>2</td>\n      <td>auntminnie-c-2020_01_28_23_51_6665_2020_01_28_...</td>\n      <td>1</td>\n    </tr>\n    <tr>\n      <th>3</th>\n      <td>2</td>\n      <td>auntminnie-d-2020_01_28_23_51_6665_2020_01_28_...</td>\n      <td>1</td>\n    </tr>\n    <tr>\n      <th>4</th>\n      <td>4</td>\n      <td>nejmc2001573_f1a.jpeg</td>\n      <td>1</td>\n    </tr>\n    <tr>\n      <th>...</th>\n      <td>...</td>\n      <td>...</td>\n      <td>...</td>\n    </tr>\n    <tr>\n      <th>945</th>\n      <td>479</td>\n      <td>072ecaf8c60a81980abb57150a8016_jumbo-9.jpeg</td>\n      <td>1</td>\n    </tr>\n    <tr>\n      <th>946</th>\n      <td>479</td>\n      <td>ff33c406392b968d483174c97eb857_jumbo-9.jpeg</td>\n      <td>1</td>\n    </tr>\n    <tr>\n      <th>947</th>\n      <td>480</td>\n      <td>000001-266.jpg</td>\n      <td>1</td>\n    </tr>\n    <tr>\n      <th>948</th>\n      <td>481</td>\n      <td>000001-272.jpg</td>\n      <td>1</td>\n    </tr>\n    <tr>\n      <th>949</th>\n      <td>481</td>\n      <td>000002-268.jpg</td>\n      <td>1</td>\n    </tr>\n  </tbody>\n</table>\n<p>950 rows × 3 columns</p>\n</div>"
     },
     "metadata": {},
     "execution_count": 88
    }
   ],
   "source": [
    "NewMeta"
   ]
  },
  {
   "cell_type": "code",
   "execution_count": 89,
   "metadata": {},
   "outputs": [
    {
     "output_type": "stream",
     "name": "stderr",
     "text": [
      "<ipython-input-89-e3bf9a8bb178>:1: SettingWithCopyWarning: \nA value is trying to be set on a copy of a slice from a DataFrame.\nTry using .loc[row_indexer,col_indexer] = value instead\n\nSee the caveats in the documentation: https://pandas.pydata.org/pandas-docs/stable/user_guide/indexing.html#returning-a-view-versus-a-copy\n  NewMeta['Target']=2\n"
     ]
    }
   ],
   "source": [
    "NewMeta['Target']=2"
   ]
  },
  {
   "cell_type": "code",
   "execution_count": 90,
   "metadata": {},
   "outputs": [
    {
     "output_type": "execute_result",
     "data": {
      "text/plain": [
       "    patientid                                           filename  finding  \\\n",
       "0           2  auntminnie-a-2020_01_28_23_51_6665_2020_01_28_...        1   \n",
       "1           2  auntminnie-b-2020_01_28_23_51_6665_2020_01_28_...        1   \n",
       "2           2  auntminnie-c-2020_01_28_23_51_6665_2020_01_28_...        1   \n",
       "3           2  auntminnie-d-2020_01_28_23_51_6665_2020_01_28_...        1   \n",
       "4           4                              nejmc2001573_f1a.jpeg        1   \n",
       "..        ...                                                ...      ...   \n",
       "945       479        072ecaf8c60a81980abb57150a8016_jumbo-9.jpeg        1   \n",
       "946       479        ff33c406392b968d483174c97eb857_jumbo-9.jpeg        1   \n",
       "947       480                                     000001-266.jpg        1   \n",
       "948       481                                     000001-272.jpg        1   \n",
       "949       481                                     000002-268.jpg        1   \n",
       "\n",
       "     Target  \n",
       "0         2  \n",
       "1         2  \n",
       "2         2  \n",
       "3         2  \n",
       "4         2  \n",
       "..      ...  \n",
       "945       2  \n",
       "946       2  \n",
       "947       2  \n",
       "948       2  \n",
       "949       2  \n",
       "\n",
       "[950 rows x 4 columns]"
      ],
      "text/html": "<div>\n<style scoped>\n    .dataframe tbody tr th:only-of-type {\n        vertical-align: middle;\n    }\n\n    .dataframe tbody tr th {\n        vertical-align: top;\n    }\n\n    .dataframe thead th {\n        text-align: right;\n    }\n</style>\n<table border=\"1\" class=\"dataframe\">\n  <thead>\n    <tr style=\"text-align: right;\">\n      <th></th>\n      <th>patientid</th>\n      <th>filename</th>\n      <th>finding</th>\n      <th>Target</th>\n    </tr>\n  </thead>\n  <tbody>\n    <tr>\n      <th>0</th>\n      <td>2</td>\n      <td>auntminnie-a-2020_01_28_23_51_6665_2020_01_28_...</td>\n      <td>1</td>\n      <td>2</td>\n    </tr>\n    <tr>\n      <th>1</th>\n      <td>2</td>\n      <td>auntminnie-b-2020_01_28_23_51_6665_2020_01_28_...</td>\n      <td>1</td>\n      <td>2</td>\n    </tr>\n    <tr>\n      <th>2</th>\n      <td>2</td>\n      <td>auntminnie-c-2020_01_28_23_51_6665_2020_01_28_...</td>\n      <td>1</td>\n      <td>2</td>\n    </tr>\n    <tr>\n      <th>3</th>\n      <td>2</td>\n      <td>auntminnie-d-2020_01_28_23_51_6665_2020_01_28_...</td>\n      <td>1</td>\n      <td>2</td>\n    </tr>\n    <tr>\n      <th>4</th>\n      <td>4</td>\n      <td>nejmc2001573_f1a.jpeg</td>\n      <td>1</td>\n      <td>2</td>\n    </tr>\n    <tr>\n      <th>...</th>\n      <td>...</td>\n      <td>...</td>\n      <td>...</td>\n      <td>...</td>\n    </tr>\n    <tr>\n      <th>945</th>\n      <td>479</td>\n      <td>072ecaf8c60a81980abb57150a8016_jumbo-9.jpeg</td>\n      <td>1</td>\n      <td>2</td>\n    </tr>\n    <tr>\n      <th>946</th>\n      <td>479</td>\n      <td>ff33c406392b968d483174c97eb857_jumbo-9.jpeg</td>\n      <td>1</td>\n      <td>2</td>\n    </tr>\n    <tr>\n      <th>947</th>\n      <td>480</td>\n      <td>000001-266.jpg</td>\n      <td>1</td>\n      <td>2</td>\n    </tr>\n    <tr>\n      <th>948</th>\n      <td>481</td>\n      <td>000001-272.jpg</td>\n      <td>1</td>\n      <td>2</td>\n    </tr>\n    <tr>\n      <th>949</th>\n      <td>481</td>\n      <td>000002-268.jpg</td>\n      <td>1</td>\n      <td>2</td>\n    </tr>\n  </tbody>\n</table>\n<p>950 rows × 4 columns</p>\n</div>"
     },
     "metadata": {},
     "execution_count": 90
    }
   ],
   "source": [
    "NewMeta"
   ]
  },
  {
   "cell_type": "code",
   "execution_count": 101,
   "metadata": {},
   "outputs": [],
   "source": [
    "NewMeta = NewMeta.rename(columns={'patientid':'patientID'})\n"
   ]
  },
  {
   "cell_type": "code",
   "execution_count": 102,
   "metadata": {},
   "outputs": [
    {
     "output_type": "execute_result",
     "data": {
      "text/plain": [
       "    patientID                                           filename  finding  \\\n",
       "0           2  auntminnie-a-2020_01_28_23_51_6665_2020_01_28_...        1   \n",
       "1           2  auntminnie-b-2020_01_28_23_51_6665_2020_01_28_...        1   \n",
       "2           2  auntminnie-c-2020_01_28_23_51_6665_2020_01_28_...        1   \n",
       "3           2  auntminnie-d-2020_01_28_23_51_6665_2020_01_28_...        1   \n",
       "4           4                              nejmc2001573_f1a.jpeg        1   \n",
       "..        ...                                                ...      ...   \n",
       "945       479        072ecaf8c60a81980abb57150a8016_jumbo-9.jpeg        1   \n",
       "946       479        ff33c406392b968d483174c97eb857_jumbo-9.jpeg        1   \n",
       "947       480                                     000001-266.jpg        1   \n",
       "948       481                                     000001-272.jpg        1   \n",
       "949       481                                     000002-268.jpg        1   \n",
       "\n",
       "     Target  \n",
       "0         2  \n",
       "1         2  \n",
       "2         2  \n",
       "3         2  \n",
       "4         2  \n",
       "..      ...  \n",
       "945       2  \n",
       "946       2  \n",
       "947       2  \n",
       "948       2  \n",
       "949       2  \n",
       "\n",
       "[950 rows x 4 columns]"
      ],
      "text/html": "<div>\n<style scoped>\n    .dataframe tbody tr th:only-of-type {\n        vertical-align: middle;\n    }\n\n    .dataframe tbody tr th {\n        vertical-align: top;\n    }\n\n    .dataframe thead th {\n        text-align: right;\n    }\n</style>\n<table border=\"1\" class=\"dataframe\">\n  <thead>\n    <tr style=\"text-align: right;\">\n      <th></th>\n      <th>patientID</th>\n      <th>filename</th>\n      <th>finding</th>\n      <th>Target</th>\n    </tr>\n  </thead>\n  <tbody>\n    <tr>\n      <th>0</th>\n      <td>2</td>\n      <td>auntminnie-a-2020_01_28_23_51_6665_2020_01_28_...</td>\n      <td>1</td>\n      <td>2</td>\n    </tr>\n    <tr>\n      <th>1</th>\n      <td>2</td>\n      <td>auntminnie-b-2020_01_28_23_51_6665_2020_01_28_...</td>\n      <td>1</td>\n      <td>2</td>\n    </tr>\n    <tr>\n      <th>2</th>\n      <td>2</td>\n      <td>auntminnie-c-2020_01_28_23_51_6665_2020_01_28_...</td>\n      <td>1</td>\n      <td>2</td>\n    </tr>\n    <tr>\n      <th>3</th>\n      <td>2</td>\n      <td>auntminnie-d-2020_01_28_23_51_6665_2020_01_28_...</td>\n      <td>1</td>\n      <td>2</td>\n    </tr>\n    <tr>\n      <th>4</th>\n      <td>4</td>\n      <td>nejmc2001573_f1a.jpeg</td>\n      <td>1</td>\n      <td>2</td>\n    </tr>\n    <tr>\n      <th>...</th>\n      <td>...</td>\n      <td>...</td>\n      <td>...</td>\n      <td>...</td>\n    </tr>\n    <tr>\n      <th>945</th>\n      <td>479</td>\n      <td>072ecaf8c60a81980abb57150a8016_jumbo-9.jpeg</td>\n      <td>1</td>\n      <td>2</td>\n    </tr>\n    <tr>\n      <th>946</th>\n      <td>479</td>\n      <td>ff33c406392b968d483174c97eb857_jumbo-9.jpeg</td>\n      <td>1</td>\n      <td>2</td>\n    </tr>\n    <tr>\n      <th>947</th>\n      <td>480</td>\n      <td>000001-266.jpg</td>\n      <td>1</td>\n      <td>2</td>\n    </tr>\n    <tr>\n      <th>948</th>\n      <td>481</td>\n      <td>000001-272.jpg</td>\n      <td>1</td>\n      <td>2</td>\n    </tr>\n    <tr>\n      <th>949</th>\n      <td>481</td>\n      <td>000002-268.jpg</td>\n      <td>1</td>\n      <td>2</td>\n    </tr>\n  </tbody>\n</table>\n<p>950 rows × 4 columns</p>\n</div>"
     },
     "metadata": {},
     "execution_count": 102
    }
   ],
   "source": [
    "NewMeta"
   ]
  },
  {
   "cell_type": "code",
   "execution_count": 98,
   "metadata": {},
   "outputs": [
    {
     "output_type": "execute_result",
     "data": {
      "text/plain": [
       "                                 patientID  \\\n",
       "0     c769a794-11cc-4b06-a97b-1acdca816ae1   \n",
       "1     9f434de4-5c5b-48c2-828f-8f04a7c51739   \n",
       "2     a23af76a-d365-4529-837b-0e8ed2ab5569   \n",
       "3     0053ee32-1e03-4dc2-a103-f46ad0448787   \n",
       "4     f07012f0-57e8-4d02-951f-087ae7c8ce5c   \n",
       "...                                    ...   \n",
       "2402  db71b2fa-5be8-47c3-a5ae-41f5211edc5d   \n",
       "2403  7ca2cfe6-94cc-4fc9-9e23-8409fdb875bf   \n",
       "2404  33b0b3e6-38db-42f4-bcb9-aee327492997   \n",
       "2405  e3e58d0d-54af-477a-abf2-8c1d11137114   \n",
       "2406  f6c8b5ed-851e-44ae-90d3-b39cbd112305   \n",
       "\n",
       "                                      filename  finding  Target  \n",
       "0     c769a794-11cc-4b06-a97b-1acdca816ae1.png        0       0  \n",
       "1     9f434de4-5c5b-48c2-828f-8f04a7c51739.png        0       0  \n",
       "2     a23af76a-d365-4529-837b-0e8ed2ab5569.png        0       0  \n",
       "3     0053ee32-1e03-4dc2-a103-f46ad0448787.png        0       0  \n",
       "4     f07012f0-57e8-4d02-951f-087ae7c8ce5c.png        0       0  \n",
       "...                                        ...      ...     ...  \n",
       "2402  db71b2fa-5be8-47c3-a5ae-41f5211edc5d.png        0       0  \n",
       "2403  7ca2cfe6-94cc-4fc9-9e23-8409fdb875bf.png        0       0  \n",
       "2404  33b0b3e6-38db-42f4-bcb9-aee327492997.png        0       0  \n",
       "2405  e3e58d0d-54af-477a-abf2-8c1d11137114.png        0       0  \n",
       "2406  f6c8b5ed-851e-44ae-90d3-b39cbd112305.png        0       0  \n",
       "\n",
       "[2407 rows x 4 columns]"
      ],
      "text/html": "<div>\n<style scoped>\n    .dataframe tbody tr th:only-of-type {\n        vertical-align: middle;\n    }\n\n    .dataframe tbody tr th {\n        vertical-align: top;\n    }\n\n    .dataframe thead th {\n        text-align: right;\n    }\n</style>\n<table border=\"1\" class=\"dataframe\">\n  <thead>\n    <tr style=\"text-align: right;\">\n      <th></th>\n      <th>patientID</th>\n      <th>filename</th>\n      <th>finding</th>\n      <th>Target</th>\n    </tr>\n  </thead>\n  <tbody>\n    <tr>\n      <th>0</th>\n      <td>c769a794-11cc-4b06-a97b-1acdca816ae1</td>\n      <td>c769a794-11cc-4b06-a97b-1acdca816ae1.png</td>\n      <td>0</td>\n      <td>0</td>\n    </tr>\n    <tr>\n      <th>1</th>\n      <td>9f434de4-5c5b-48c2-828f-8f04a7c51739</td>\n      <td>9f434de4-5c5b-48c2-828f-8f04a7c51739.png</td>\n      <td>0</td>\n      <td>0</td>\n    </tr>\n    <tr>\n      <th>2</th>\n      <td>a23af76a-d365-4529-837b-0e8ed2ab5569</td>\n      <td>a23af76a-d365-4529-837b-0e8ed2ab5569.png</td>\n      <td>0</td>\n      <td>0</td>\n    </tr>\n    <tr>\n      <th>3</th>\n      <td>0053ee32-1e03-4dc2-a103-f46ad0448787</td>\n      <td>0053ee32-1e03-4dc2-a103-f46ad0448787.png</td>\n      <td>0</td>\n      <td>0</td>\n    </tr>\n    <tr>\n      <th>4</th>\n      <td>f07012f0-57e8-4d02-951f-087ae7c8ce5c</td>\n      <td>f07012f0-57e8-4d02-951f-087ae7c8ce5c.png</td>\n      <td>0</td>\n      <td>0</td>\n    </tr>\n    <tr>\n      <th>...</th>\n      <td>...</td>\n      <td>...</td>\n      <td>...</td>\n      <td>...</td>\n    </tr>\n    <tr>\n      <th>2402</th>\n      <td>db71b2fa-5be8-47c3-a5ae-41f5211edc5d</td>\n      <td>db71b2fa-5be8-47c3-a5ae-41f5211edc5d.png</td>\n      <td>0</td>\n      <td>0</td>\n    </tr>\n    <tr>\n      <th>2403</th>\n      <td>7ca2cfe6-94cc-4fc9-9e23-8409fdb875bf</td>\n      <td>7ca2cfe6-94cc-4fc9-9e23-8409fdb875bf.png</td>\n      <td>0</td>\n      <td>0</td>\n    </tr>\n    <tr>\n      <th>2404</th>\n      <td>33b0b3e6-38db-42f4-bcb9-aee327492997</td>\n      <td>33b0b3e6-38db-42f4-bcb9-aee327492997.png</td>\n      <td>0</td>\n      <td>0</td>\n    </tr>\n    <tr>\n      <th>2405</th>\n      <td>e3e58d0d-54af-477a-abf2-8c1d11137114</td>\n      <td>e3e58d0d-54af-477a-abf2-8c1d11137114.png</td>\n      <td>0</td>\n      <td>0</td>\n    </tr>\n    <tr>\n      <th>2406</th>\n      <td>f6c8b5ed-851e-44ae-90d3-b39cbd112305</td>\n      <td>f6c8b5ed-851e-44ae-90d3-b39cbd112305.png</td>\n      <td>0</td>\n      <td>0</td>\n    </tr>\n  </tbody>\n</table>\n<p>2407 rows × 4 columns</p>\n</div>"
     },
     "metadata": {},
     "execution_count": 98
    }
   ],
   "source": [
    "total_df"
   ]
  },
  {
   "cell_type": "code",
   "execution_count": 103,
   "metadata": {},
   "outputs": [
    {
     "output_type": "execute_result",
     "data": {
      "text/plain": [
       "                                patientID  \\\n",
       "0    c769a794-11cc-4b06-a97b-1acdca816ae1   \n",
       "1    9f434de4-5c5b-48c2-828f-8f04a7c51739   \n",
       "2    a23af76a-d365-4529-837b-0e8ed2ab5569   \n",
       "3    0053ee32-1e03-4dc2-a103-f46ad0448787   \n",
       "4    f07012f0-57e8-4d02-951f-087ae7c8ce5c   \n",
       "..                                    ...   \n",
       "945                                   479   \n",
       "946                                   479   \n",
       "947                                   480   \n",
       "948                                   481   \n",
       "949                                   481   \n",
       "\n",
       "                                        filename  finding  Target  \n",
       "0       c769a794-11cc-4b06-a97b-1acdca816ae1.png        0       0  \n",
       "1       9f434de4-5c5b-48c2-828f-8f04a7c51739.png        0       0  \n",
       "2       a23af76a-d365-4529-837b-0e8ed2ab5569.png        0       0  \n",
       "3       0053ee32-1e03-4dc2-a103-f46ad0448787.png        0       0  \n",
       "4       f07012f0-57e8-4d02-951f-087ae7c8ce5c.png        0       0  \n",
       "..                                           ...      ...     ...  \n",
       "945  072ecaf8c60a81980abb57150a8016_jumbo-9.jpeg        1       2  \n",
       "946  ff33c406392b968d483174c97eb857_jumbo-9.jpeg        1       2  \n",
       "947                               000001-266.jpg        1       2  \n",
       "948                               000001-272.jpg        1       2  \n",
       "949                               000002-268.jpg        1       2  \n",
       "\n",
       "[3357 rows x 4 columns]"
      ],
      "text/html": "<div>\n<style scoped>\n    .dataframe tbody tr th:only-of-type {\n        vertical-align: middle;\n    }\n\n    .dataframe tbody tr th {\n        vertical-align: top;\n    }\n\n    .dataframe thead th {\n        text-align: right;\n    }\n</style>\n<table border=\"1\" class=\"dataframe\">\n  <thead>\n    <tr style=\"text-align: right;\">\n      <th></th>\n      <th>patientID</th>\n      <th>filename</th>\n      <th>finding</th>\n      <th>Target</th>\n    </tr>\n  </thead>\n  <tbody>\n    <tr>\n      <th>0</th>\n      <td>c769a794-11cc-4b06-a97b-1acdca816ae1</td>\n      <td>c769a794-11cc-4b06-a97b-1acdca816ae1.png</td>\n      <td>0</td>\n      <td>0</td>\n    </tr>\n    <tr>\n      <th>1</th>\n      <td>9f434de4-5c5b-48c2-828f-8f04a7c51739</td>\n      <td>9f434de4-5c5b-48c2-828f-8f04a7c51739.png</td>\n      <td>0</td>\n      <td>0</td>\n    </tr>\n    <tr>\n      <th>2</th>\n      <td>a23af76a-d365-4529-837b-0e8ed2ab5569</td>\n      <td>a23af76a-d365-4529-837b-0e8ed2ab5569.png</td>\n      <td>0</td>\n      <td>0</td>\n    </tr>\n    <tr>\n      <th>3</th>\n      <td>0053ee32-1e03-4dc2-a103-f46ad0448787</td>\n      <td>0053ee32-1e03-4dc2-a103-f46ad0448787.png</td>\n      <td>0</td>\n      <td>0</td>\n    </tr>\n    <tr>\n      <th>4</th>\n      <td>f07012f0-57e8-4d02-951f-087ae7c8ce5c</td>\n      <td>f07012f0-57e8-4d02-951f-087ae7c8ce5c.png</td>\n      <td>0</td>\n      <td>0</td>\n    </tr>\n    <tr>\n      <th>...</th>\n      <td>...</td>\n      <td>...</td>\n      <td>...</td>\n      <td>...</td>\n    </tr>\n    <tr>\n      <th>945</th>\n      <td>479</td>\n      <td>072ecaf8c60a81980abb57150a8016_jumbo-9.jpeg</td>\n      <td>1</td>\n      <td>2</td>\n    </tr>\n    <tr>\n      <th>946</th>\n      <td>479</td>\n      <td>ff33c406392b968d483174c97eb857_jumbo-9.jpeg</td>\n      <td>1</td>\n      <td>2</td>\n    </tr>\n    <tr>\n      <th>947</th>\n      <td>480</td>\n      <td>000001-266.jpg</td>\n      <td>1</td>\n      <td>2</td>\n    </tr>\n    <tr>\n      <th>948</th>\n      <td>481</td>\n      <td>000001-272.jpg</td>\n      <td>1</td>\n      <td>2</td>\n    </tr>\n    <tr>\n      <th>949</th>\n      <td>481</td>\n      <td>000002-268.jpg</td>\n      <td>1</td>\n      <td>2</td>\n    </tr>\n  </tbody>\n</table>\n<p>3357 rows × 4 columns</p>\n</div>"
     },
     "metadata": {},
     "execution_count": 103
    }
   ],
   "source": [
    "total_df.append(NewMeta)"
   ]
  },
  {
   "cell_type": "code",
   "execution_count": 105,
   "metadata": {},
   "outputs": [],
   "source": [
    "total_df = total_df.append(NewMeta)"
   ]
  },
  {
   "cell_type": "code",
   "execution_count": 106,
   "metadata": {},
   "outputs": [],
   "source": [
    "total_df.to_csv('FullData.csv')"
   ]
  },
  {
   "cell_type": "code",
   "execution_count": null,
   "metadata": {},
   "outputs": [],
   "source": []
  }
 ]
}